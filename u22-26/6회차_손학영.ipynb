{
  "nbformat": 4,
  "nbformat_minor": 0,
  "metadata": {
    "colab": {
      "name": "6회차_손학영.ipynb",
      "provenance": [],
      "collapsed_sections": []
    },
    "kernelspec": {
      "name": "python3",
      "display_name": "Python 3"
    },
    "language_info": {
      "name": "python"
    }
  },
  "cells": [
    {
      "cell_type": "markdown",
      "metadata": {
        "id": "_n3oOlGV3sEt"
      },
      "source": [
        "## 22.10 심사문제"
      ]
    },
    {
      "cell_type": "code",
      "metadata": {
        "colab": {
          "base_uri": "https://localhost:8080/"
        },
        "id": "bKvzk8cF3am5",
        "outputId": "f0756f9c-257f-4fb1-8f9a-8e94c7f8b9b7"
      },
      "source": [
        "a, b = map(int, input().split())\n",
        "c = [2**i for i in range(a,b+1)]\n",
        "c.pop(1)\n",
        "c.pop(-2)\n",
        "print(c)"
      ],
      "execution_count": 8,
      "outputs": [
        {
          "output_type": "stream",
          "text": [
            "1 10\n",
            "[2, 8, 16, 32, 64, 128, 256, 1024]\n"
          ],
          "name": "stdout"
        }
      ]
    },
    {
      "cell_type": "markdown",
      "metadata": {
        "id": "FDD5mmTQ5nPm"
      },
      "source": [
        "# 23.6 심사문제"
      ]
    },
    {
      "cell_type": "code",
      "metadata": {
        "colab": {
          "base_uri": "https://localhost:8080/"
        },
        "id": "_NKD4nEV3urG",
        "outputId": "4176d047-a6dc-42ca-dba6-c9c855f62644"
      },
      "source": [
        "matrix = []\n",
        "col, row = map(int,input().split())\n",
        "for i in range(row) : \n",
        "  matrix.append(list(input()))\n",
        "if i != 0 : \n",
        "  if matrix[i]\n"
      ],
      "execution_count": 16,
      "outputs": [
        {
          "output_type": "stream",
          "text": [
            "3 3\n",
            ".**\n",
            "*..\n",
            ".*.\n"
          ],
          "name": "stdout"
        }
      ]
    },
    {
      "cell_type": "code",
      "metadata": {
        "colab": {
          "base_uri": "https://localhost:8080/"
        },
        "id": "Z5XOH4ul7e97",
        "outputId": "102c2341-adef-4c2c-a10c-7184d184252c"
      },
      "source": [
        "matrix"
      ],
      "execution_count": 17,
      "outputs": [
        {
          "output_type": "execute_result",
          "data": {
            "text/plain": [
              "[['.', '*', '*'], ['*', '.', '.'], ['.', '*', '.']]"
            ]
          },
          "metadata": {
            "tags": []
          },
          "execution_count": 17
        }
      ]
    },
    {
      "cell_type": "code",
      "metadata": {
        "colab": {
          "base_uri": "https://localhost:8080/"
        },
        "id": "QPpm-Og97kcs",
        "outputId": "17af67ce-13bd-497d-c33e-7d11856399c4"
      },
      "source": [
        "row, col = map(int,input().split())\n",
        "matrix = []\n",
        "for i in range(row):\n",
        "    matrix.append(list(input()))\n",
        "\n",
        "for i in range(row) : \n",
        "  for j in range(col) : \n",
        "    if matrix[i][j] == '*' :\n",
        "      matrix[i][j] = '*'\n",
        "    else : \n",
        "      count = 0\n",
        "      for x in range(-1,2) : \n",
        "        for y in range(-1,2) : \n",
        "          if 0<=i+x < row and 0<=j+y<col and matrix[i+x][j+y] == '*' : \n",
        "            count += 1\n",
        "      matrix[i][j] = count\n",
        "  print(matrix[i])"
      ],
      "execution_count": 93,
      "outputs": [
        {
          "output_type": "stream",
          "text": [
            "3 3\n",
            ".**\n",
            "*..\n",
            ".*.\n",
            "[2, '*', '*']\n",
            "['*', 4, 3]\n",
            "[2, '*', 1]\n"
          ],
          "name": "stdout"
        }
      ]
    },
    {
      "cell_type": "code",
      "metadata": {
        "colab": {
          "base_uri": "https://localhost:8080/"
        },
        "id": "JueSUh-h8AwH",
        "outputId": "239817b6-9e52-48f2-ecd1-a15d1601c6c5"
      },
      "source": [
        "matrix"
      ],
      "execution_count": 90,
      "outputs": [
        {
          "output_type": "execute_result",
          "data": {
            "text/plain": [
              "[[2, '*', '*'], ['*', 4, 3], [2, '*', 1]]"
            ]
          },
          "metadata": {
            "tags": []
          },
          "execution_count": 90
        }
      ]
    },
    {
      "cell_type": "markdown",
      "metadata": {
        "id": "tS1f20H09fLU"
      },
      "source": [
        "# 24.5 심사문제"
      ]
    },
    {
      "cell_type": "code",
      "metadata": {
        "colab": {
          "base_uri": "https://localhost:8080/"
        },
        "id": "bvOs2egK8FCt",
        "outputId": "a7a8c428-91a6-41df-ee90-1af34ece21aa"
      },
      "source": [
        "text = list(input().split())\n",
        "count = 0\n",
        "for i in text: \n",
        "  i= i.strip(',.')\n",
        "  if i == 'the' : \n",
        "    count += 1\n",
        "print(count)"
      ],
      "execution_count": 33,
      "outputs": [
        {
          "output_type": "stream",
          "text": [
            "the grown-ups' response, this time, was to advise me to lay aside my drawings of boa constrictors, whether from the inside or the outside, and devote myself instead to geography, history, arithmetic, and grammar. That is why, at the, age of six, I gave up what might have been a magnificent career as a painter. I had been disheartened by the failure of my Drawing Number One and my Drawing Number Two. Grown-ups never understand anything by themselves, and it is tiresome for children to be always and forever explaining things to the.\n",
            "6\n"
          ],
          "name": "stdout"
        }
      ]
    },
    {
      "cell_type": "markdown",
      "metadata": {
        "id": "pEpd1UgfAqgI"
      },
      "source": [
        "# 24.6 심사문제"
      ]
    },
    {
      "cell_type": "code",
      "metadata": {
        "colab": {
          "base_uri": "https://localhost:8080/"
        },
        "id": "Tr6eSE8s_sMu",
        "outputId": "ec685a23-92c0-4966-ed72-8c2b757122d6"
      },
      "source": [
        "price = list(map(int,input().split(';')))\n",
        "price.sort(reverse=True)\n",
        "for i in price : \n",
        "  i='{0:>9,}'.format(i)\n",
        "  print(i)"
      ],
      "execution_count": 63,
      "outputs": [
        {
          "output_type": "stream",
          "text": [
            "51900;83000;158000;367500;250000;59200;128500;1304000\n",
            "1,304,000\n",
            "  367,500\n",
            "  250,000\n",
            "  158,000\n",
            "  128,500\n",
            "   83,000\n",
            "   59,200\n",
            "   51,900\n"
          ],
          "name": "stdout"
        }
      ]
    },
    {
      "cell_type": "markdown",
      "metadata": {
        "id": "Ang4SSTKE0zj"
      },
      "source": [
        "# 25.8 심사문제"
      ]
    },
    {
      "cell_type": "code",
      "metadata": {
        "colab": {
          "base_uri": "https://localhost:8080/"
        },
        "id": "PwVyF1wnA9Yz",
        "outputId": "0ec1a616-d084-4690-e98a-8e1e257676bf"
      },
      "source": [
        "keys = input().split()\n",
        "values = map(int, input().split())\n",
        " \n",
        "x = dict(zip(keys, values))\n",
        "x.pop('delta')\n",
        "x={key:value for key,value in x.items() if value!=30}\n",
        "print(x)"
      ],
      "execution_count": 77,
      "outputs": [
        {
          "output_type": "stream",
          "text": [
            "alpha bravo charlie delta\n",
            "10 20 30 40\n",
            "{'alpha': 10, 'bravo': 20}\n"
          ],
          "name": "stdout"
        }
      ]
    },
    {
      "cell_type": "markdown",
      "metadata": {
        "id": "qHkQFAIsHkir"
      },
      "source": [
        "# 26.9 심사문제 "
      ]
    },
    {
      "cell_type": "code",
      "metadata": {
        "colab": {
          "base_uri": "https://localhost:8080/"
        },
        "id": "R5XHtxsNCyrz",
        "outputId": "6e7349fb-7711-4ecf-b3b8-9c774dd112ef"
      },
      "source": [
        "c, d = map(int, input().split())\n",
        "a = {i for i in range(1,c+1) if c%i == 0 }\n",
        "b = {i for i in range(1,d+1) if d%i == 0}\n",
        "divisor = a & b\n",
        " \n",
        "result = 0\n",
        "if type(divisor) == set:\n",
        "    result = sum(divisor)\n",
        " \n",
        "print(result)"
      ],
      "execution_count": 85,
      "outputs": [
        {
          "output_type": "stream",
          "text": [
            "100 200\n",
            "217\n"
          ],
          "name": "stdout"
        }
      ]
    }
  ]
}