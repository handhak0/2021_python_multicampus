{
    "cells": [
        {
            "cell_type": "markdown",
            "source": [
                "# 22 심사문제 : 지뢰찾기"
            ],
            "metadata": {}
        },
        {
            "cell_type": "code",
            "execution_count": 3,
            "source": [
                "import random\r\n",
                "mines = []\r\n",
                "for _ in range(9) : \r\n",
                "    row = ''\r\n",
                "    if random.random() > 0.6 :\r\n",
                "        row+='*'\r\n",
                "    else : \r\n",
                "        row +='.'\r\n",
                "    mines.append(row)\r\n",
                "print(mines)\r\n"
            ],
            "outputs": [
                {
                    "output_type": "stream",
                    "name": "stdout",
                    "text": [
                        "['*', '.', '.', '*', '.', '.', '*', '.', '.']\n"
                    ]
                }
            ],
            "metadata": {}
        },
        {
            "cell_type": "code",
            "execution_count": null,
            "source": [
                "mines = if random.random > 0.6 "
            ],
            "outputs": [],
            "metadata": {}
        },
        {
            "cell_type": "code",
            "execution_count": 8,
            "source": [
                "def print_mines(mat) : \r\n",
                "    for i in range(len(mat)) : \r\n",
                "        for k in range(len(mat)) : \r\n",
                "            print(mat[i][k], end =' ')\r\n",
                "    print()\r\n",
                "\r\n",
                "print_mines(mines)"
            ],
            "outputs": [
                {
                    "output_type": "stream",
                    "name": "stdout",
                    "text": [
                        "* "
                    ]
                },
                {
                    "output_type": "error",
                    "ename": "IndexError",
                    "evalue": "string index out of range",
                    "traceback": [
                        "\u001b[1;31m---------------------------------------------------------------------------\u001b[0m",
                        "\u001b[1;31mIndexError\u001b[0m                                Traceback (most recent call last)",
                        "\u001b[1;32m<ipython-input-8-0f885cd08f7a>\u001b[0m in \u001b[0;36m<module>\u001b[1;34m\u001b[0m\n\u001b[0;32m      5\u001b[0m     \u001b[0mprint\u001b[0m\u001b[1;33m(\u001b[0m\u001b[1;33m)\u001b[0m\u001b[1;33m\u001b[0m\u001b[1;33m\u001b[0m\u001b[0m\n\u001b[0;32m      6\u001b[0m \u001b[1;33m\u001b[0m\u001b[0m\n\u001b[1;32m----> 7\u001b[1;33m \u001b[0mprint_mines\u001b[0m\u001b[1;33m(\u001b[0m\u001b[0mmines\u001b[0m\u001b[1;33m)\u001b[0m\u001b[1;33m\u001b[0m\u001b[1;33m\u001b[0m\u001b[0m\n\u001b[0m",
                        "\u001b[1;32m<ipython-input-8-0f885cd08f7a>\u001b[0m in \u001b[0;36mprint_mines\u001b[1;34m(mat)\u001b[0m\n\u001b[0;32m      2\u001b[0m     \u001b[1;32mfor\u001b[0m \u001b[0mi\u001b[0m \u001b[1;32min\u001b[0m \u001b[0mrange\u001b[0m\u001b[1;33m(\u001b[0m\u001b[0mlen\u001b[0m\u001b[1;33m(\u001b[0m\u001b[0mmat\u001b[0m\u001b[1;33m)\u001b[0m\u001b[1;33m)\u001b[0m \u001b[1;33m:\u001b[0m\u001b[1;33m\u001b[0m\u001b[1;33m\u001b[0m\u001b[0m\n\u001b[0;32m      3\u001b[0m         \u001b[1;32mfor\u001b[0m \u001b[0mk\u001b[0m \u001b[1;32min\u001b[0m \u001b[0mrange\u001b[0m\u001b[1;33m(\u001b[0m\u001b[0mlen\u001b[0m\u001b[1;33m(\u001b[0m\u001b[0mmat\u001b[0m\u001b[1;33m)\u001b[0m\u001b[1;33m)\u001b[0m \u001b[1;33m:\u001b[0m\u001b[1;33m\u001b[0m\u001b[1;33m\u001b[0m\u001b[0m\n\u001b[1;32m----> 4\u001b[1;33m             \u001b[0mprint\u001b[0m\u001b[1;33m(\u001b[0m\u001b[0mmat\u001b[0m\u001b[1;33m[\u001b[0m\u001b[0mi\u001b[0m\u001b[1;33m]\u001b[0m\u001b[1;33m[\u001b[0m\u001b[0mk\u001b[0m\u001b[1;33m]\u001b[0m\u001b[1;33m,\u001b[0m \u001b[0mend\u001b[0m \u001b[1;33m=\u001b[0m\u001b[1;34m' '\u001b[0m\u001b[1;33m)\u001b[0m\u001b[1;33m\u001b[0m\u001b[1;33m\u001b[0m\u001b[0m\n\u001b[0m\u001b[0;32m      5\u001b[0m     \u001b[0mprint\u001b[0m\u001b[1;33m(\u001b[0m\u001b[1;33m)\u001b[0m\u001b[1;33m\u001b[0m\u001b[1;33m\u001b[0m\u001b[0m\n\u001b[0;32m      6\u001b[0m \u001b[1;33m\u001b[0m\u001b[0m\n",
                        "\u001b[1;31mIndexError\u001b[0m: string index out of range"
                    ]
                }
            ],
            "metadata": {}
        },
        {
            "cell_type": "code",
            "execution_count": 9,
            "source": [
                "pad_mines = []\r\n",
                "pad_mines.append('..........')\r\n",
                "for i in range(9) : \r\n",
                "    row = '.'\r\n",
                "    for k in range(9) : \r\n",
                "        row += mines[i][k]\r\n",
                "    row +='.'\r\n",
                "    pad_mines.append(row)\r\n",
                "pad_mines.append('..........')\r\n",
                "\r\n",
                "print_mines(pad_mines)\r\n",
                "\r\n"
            ],
            "outputs": [
                {
                    "output_type": "error",
                    "ename": "IndexError",
                    "evalue": "string index out of range",
                    "traceback": [
                        "\u001b[1;31m---------------------------------------------------------------------------\u001b[0m",
                        "\u001b[1;31mIndexError\u001b[0m                                Traceback (most recent call last)",
                        "\u001b[1;32m<ipython-input-9-4959ebec9a35>\u001b[0m in \u001b[0;36m<module>\u001b[1;34m\u001b[0m\n\u001b[0;32m      4\u001b[0m     \u001b[0mrow\u001b[0m \u001b[1;33m=\u001b[0m \u001b[1;34m'.'\u001b[0m\u001b[1;33m\u001b[0m\u001b[1;33m\u001b[0m\u001b[0m\n\u001b[0;32m      5\u001b[0m     \u001b[1;32mfor\u001b[0m \u001b[0mk\u001b[0m \u001b[1;32min\u001b[0m \u001b[0mrange\u001b[0m\u001b[1;33m(\u001b[0m\u001b[1;36m9\u001b[0m\u001b[1;33m)\u001b[0m \u001b[1;33m:\u001b[0m\u001b[1;33m\u001b[0m\u001b[1;33m\u001b[0m\u001b[0m\n\u001b[1;32m----> 6\u001b[1;33m         \u001b[0mrow\u001b[0m \u001b[1;33m+=\u001b[0m \u001b[0mmines\u001b[0m\u001b[1;33m[\u001b[0m\u001b[0mi\u001b[0m\u001b[1;33m]\u001b[0m\u001b[1;33m[\u001b[0m\u001b[0mk\u001b[0m\u001b[1;33m]\u001b[0m\u001b[1;33m\u001b[0m\u001b[1;33m\u001b[0m\u001b[0m\n\u001b[0m\u001b[0;32m      7\u001b[0m     \u001b[0mrow\u001b[0m \u001b[1;33m+=\u001b[0m\u001b[1;34m'.'\u001b[0m\u001b[1;33m\u001b[0m\u001b[1;33m\u001b[0m\u001b[0m\n\u001b[0;32m      8\u001b[0m     \u001b[0mpad_mines\u001b[0m\u001b[1;33m.\u001b[0m\u001b[0mappend\u001b[0m\u001b[1;33m(\u001b[0m\u001b[0mrow\u001b[0m\u001b[1;33m)\u001b[0m\u001b[1;33m\u001b[0m\u001b[1;33m\u001b[0m\u001b[0m\n",
                        "\u001b[1;31mIndexError\u001b[0m: string index out of range"
                    ]
                }
            ],
            "metadata": {}
        },
        {
            "cell_type": "code",
            "execution_count": null,
            "source": [
                "final_mines = []\r\n",
                "for i in range(1,10) : \r\n",
                "    row = ''\r\n",
                "    for k in range(1, 10) : \r\n",
                "        if pad_mines[i][k] == '*' : \r\n",
                "            row += '*'\r\n",
                "        else : \r\n",
                "            count = (pad_mines[i-1][k-1] == \"*\") + (pad_mines[i-1][k] == \"*\") + (pad_mines[i-1][k+1] == \"*\") + \\\r\n",
                "                    (pad_mines[i][k-1] == \"*\") + (pad_mines[i][k+1] == \"*\") + (pad_mines[i+1][k-1] == \"*\") + \\\r\n",
                "                    (pad_mines[i+1][k] == \"*\") + (pad_mines[i+1][k+1] == \"*\")\r\n",
                "\r\n",
                "            row += str(count)\r\n",
                "    final_mines.append(row)\r\n",
                "\r\n",
                "print_mines(final_mines)\r\n"
            ],
            "outputs": [],
            "metadata": {}
        },
        {
            "cell_type": "markdown",
            "source": [
                "# 23 심사문제 : 특정 단어 개수 세기"
            ],
            "metadata": {}
        },
        {
            "cell_type": "code",
            "execution_count": 17,
            "source": [
                "import re # 정규 표현식 모듈 \r\n",
                "text = '''\r\n",
                "the grown-ups' response, this time, was to advise me to lay aside my drawings of boa constrictors, whether from the inside or the outside, and devote myself instead to geography, history, arithmetic, and grammar. That is why, at the, age of six, I gave up what might have been a magnificent career as a painter. I had been disheartened by the failure of my Drawing Number One and my Drawing Number Two. Grown-ups never understand anything by themselves, and it is tiresome for children to be always and forever explaining things to the.\r\n",
                "'''\r\n",
                "text = re.sub(\"[\\'-.,\\n]\",'', text) #'.,\\n은 전부 공백으로 바꾸라는 것 \r\n",
                "text "
            ],
            "outputs": [
                {
                    "output_type": "execute_result",
                    "data": {
                        "text/plain": [
                            "8"
                        ]
                    },
                    "metadata": {},
                    "execution_count": 17
                }
            ],
            "metadata": {}
        },
        {
            "cell_type": "code",
            "execution_count": 19,
            "source": [
                "text = re.sub(\"[^A-Za-z ]\", '', text) # 알파벳과 스페이스가 아닌 놈들은 공백으로 바꿔라 ^은 not이라는 뜻 \r\n",
                "text"
            ],
            "outputs": [
                {
                    "output_type": "execute_result",
                    "data": {
                        "text/plain": [
                            "'the grownups response this time was to advise me to lay aside my drawings of boa constrictors whether from the inside or the outside and devote myself instead to geography history arithmetic and grammar That is why at the age of six I gave up what might have been a magnificent career as a painter I had been disheartened by the failure of my Drawing Number One and my Drawing Number Two Grownups never understand anything by themselves and it is tiresome for children to be always and forever explaining things to the'"
                        ]
                    },
                    "metadata": {},
                    "execution_count": 19
                }
            ],
            "metadata": {}
        },
        {
            "cell_type": "code",
            "execution_count": 18,
            "source": [
                "text_list = text.lower().strip('.,').split()\r\n",
                "count = 0 \r\n",
                "for word in text_list : \r\n",
                "    if word == 'the' : \r\n",
                "        count += 1 \r\n",
                "count"
            ],
            "outputs": [
                {
                    "output_type": "execute_result",
                    "data": {
                        "text/plain": [
                            "6"
                        ]
                    },
                    "metadata": {},
                    "execution_count": 18
                }
            ],
            "metadata": {}
        },
        {
            "cell_type": "markdown",
            "source": [
                "# 24 심사문제 "
            ],
            "metadata": {}
        },
        {
            "cell_type": "code",
            "execution_count": null,
            "source": [
                "input_str = input()\r\n",
                "price_list = list(map(int, input_str.split(';')))\r\n",
                "price_list.sort(reverse = True)\r\n",
                "for price in price_list : \r\n",
                "    print(f'{price:9.d}')\r\n"
            ],
            "outputs": [],
            "metadata": {}
        },
        {
            "cell_type": "code",
            "execution_count": null,
            "source": [],
            "outputs": [],
            "metadata": {}
        }
    ],
    "metadata": {
        "orig_nbformat": 4,
        "language_info": {
            "name": "python",
            "version": "3.7.3",
            "mimetype": "text/x-python",
            "codemirror_mode": {
                "name": "ipython",
                "version": 3
            },
            "pygments_lexer": "ipython3",
            "nbconvert_exporter": "python",
            "file_extension": ".py"
        },
        "kernelspec": {
            "name": "python3",
            "display_name": "Python 3.7.3 64-bit ('base': conda)"
        },
        "interpreter": {
            "hash": "8ca95d9937370959fe53b3f81cea8b7fb579a8b2e40b3ed544c9c6bb9cfba242"
        }
    },
    "nbformat": 4,
    "nbformat_minor": 2
}