{
 "cells": [
  {
   "cell_type": "code",
   "execution_count": 2,
   "source": [
    "import requests\r\n",
    "import pandas as pd \r\n",
    "import time \r\n",
    "from selenium import webdriver \r\n",
    "from selenium.webdriver.common.keys import Keys \r\n",
    "from urllib.parse import quote\r\n",
    "from bs4 import BeautifulSoup"
   ],
   "outputs": [],
   "metadata": {}
  },
  {
   "cell_type": "code",
   "execution_count": 5,
   "source": [
    "chromedriver = 'C:/Users/sonso/Desktop/Git/Python/chromedriver.exe'\r\n",
    "driver = webdriver.Chrome(chromedriver)"
   ],
   "outputs": [],
   "metadata": {}
  },
  {
   "cell_type": "code",
   "execution_count": 6,
   "source": [
    "base_url = 'https://search.naver.com/search.naver?where=view&sm=tab_jum&query='\r\n",
    "url = base_url + quote('z플립')\r\n",
    "\r\n",
    "driver.get(url)"
   ],
   "outputs": [],
   "metadata": {}
  },
  {
   "cell_type": "code",
   "execution_count": 7,
   "source": [
    "# 스크롤 했을 때 데이터 개수 늘어나는 거 \r\n",
    "body = driver.find_element_by_tag_name('body')\r\n",
    "for i in range(50) : \r\n",
    "    body.send_keys(Keys.PAGE_DOWN)\r\n",
    "    time.sleep(2)"
   ],
   "outputs": [],
   "metadata": {}
  },
  {
   "cell_type": "code",
   "execution_count": 9,
   "source": [
    "html = driver.page_source\r\n",
    "soup = BeautifulSoup(html,'html.parser')"
   ],
   "outputs": [],
   "metadata": {}
  },
  {
   "cell_type": "code",
   "execution_count": 10,
   "source": [
    "lis = soup.select('li.bx._svp_item')\r\n",
    "len(lis)"
   ],
   "outputs": [
    {
     "output_type": "execute_result",
     "data": {
      "text/plain": [
       "90"
      ]
     },
     "metadata": {},
     "execution_count": 10
    }
   ],
   "metadata": {}
  },
  {
   "cell_type": "code",
   "execution_count": 11,
   "source": [
    "\r\n",
    "li = lis[0]\r\n",
    "title = li.select_one('a.api_txt_lines.total_tit._cross_trigger').get_text()\r\n",
    "content = li.select_one('div.api_txt_lines.dsc_txt').get_text()\r\n",
    "date = li.select_one('.sub_time.sub_txt').get_text()\r\n",
    "title, date, content"
   ],
   "outputs": [
    {
     "output_type": "execute_result",
     "data": {
      "text/plain": [
       "('갤럭시 Z플립3 가격 과연쓸만한 폰일까?',\n",
       " '2021.08.20.',\n",
       " '조금이라도 폰에 대해 관심이 없었다면 Z플립2는 어디로 가고 플립3가 나온거야? 하고 반문할 수 있다. 당연한 의문이다. 필자도 처음엔 갸웃했으니 말이다. 원래 이름이라면 갤럭시Z 플립2 이어야한다. Z플립 5G 버전을...')"
      ]
     },
     "metadata": {},
     "execution_count": 11
    }
   ],
   "metadata": {}
  },
  {
   "cell_type": "code",
   "execution_count": 12,
   "source": [
    "title_list, content_list, date_list = [],[],[]\r\n",
    "for i, li in enumerate(lis):\r\n",
    "    try:\r\n",
    "        adv = li.select_one('a.link_ad').get_text()\r\n",
    "        if adv.strip() == '광고':\r\n",
    "            continue\r\n",
    "    except:\r\n",
    "        title = li.select_one('a.api_txt_lines.total_tit').get_text()\r\n",
    "        content = li.select_one('div.api_txt_lines.dsc_txt').get_text()\r\n",
    "        date = li.select_one('.sub_time.sub_txt').get_text()\r\n",
    "\r\n",
    "        title_list.append(title)\r\n",
    "        content_list.append(content)\r\n",
    "        date_list.append(date)"
   ],
   "outputs": [],
   "metadata": {}
  },
  {
   "cell_type": "code",
   "execution_count": 13,
   "source": [
    "df = pd.DataFrame({\r\n",
    "    'title':title_list, 'date':date_list, 'content':content_list\r\n",
    "})\r\n",
    "df.head()"
   ],
   "outputs": [
    {
     "output_type": "execute_result",
     "data": {
      "text/plain": [
       "                                               title         date  \\\n",
       "0                             갤럭시 Z플립3 가격 과연쓸만한 폰일까?  2021.08.20.   \n",
       "1                           갤럭시 버즈2 Z 플립3 케이스 커버 개봉기         4일 전   \n",
       "2                       갤럭시 z플립3 사전예약 현장 가보니 대세는 이것?  2021.08.17.   \n",
       "3                         접고펴는 갤럭시 z플립3 라벤더 색상! 가격은?       11시간 전   \n",
       "4  직접 보니 心하네↗ 갤럭시 Z폴드3 & 플립3 인기컬러와 품목은? (이마트 트레이더...         7일 전   \n",
       "\n",
       "                                             content  \n",
       "0  조금이라도 폰에 대해 관심이 없었다면 Z플립2는 어디로 가고 플립3가 나온거야? 하...  \n",
       "1  이번에 새로 출시한 갤럭시 Z 폴드3와 Z 플립3 모두 역대급 판매량을 기록하면서 ...  \n",
       "2  Galaxy Z Flip3 사전예약 신청 바로가기! 솔직히 말해서 이번 갤럭시 z플...  \n",
       "3  요즘 핫한 갤럭시 z플립3! 통신사 지원금이 처음부터 놀라울 정도로 컸습니다. 가격...  \n",
       "4  ㅎㅎ 지난 주말에 사전예약 중인 갤럭시 Z 폴드3와 플립3, 그리고 버즈2와 갤럭시...  "
      ],
      "text/html": [
       "<div>\n",
       "<style scoped>\n",
       "    .dataframe tbody tr th:only-of-type {\n",
       "        vertical-align: middle;\n",
       "    }\n",
       "\n",
       "    .dataframe tbody tr th {\n",
       "        vertical-align: top;\n",
       "    }\n",
       "\n",
       "    .dataframe thead th {\n",
       "        text-align: right;\n",
       "    }\n",
       "</style>\n",
       "<table border=\"1\" class=\"dataframe\">\n",
       "  <thead>\n",
       "    <tr style=\"text-align: right;\">\n",
       "      <th></th>\n",
       "      <th>title</th>\n",
       "      <th>date</th>\n",
       "      <th>content</th>\n",
       "    </tr>\n",
       "  </thead>\n",
       "  <tbody>\n",
       "    <tr>\n",
       "      <th>0</th>\n",
       "      <td>갤럭시 Z플립3 가격 과연쓸만한 폰일까?</td>\n",
       "      <td>2021.08.20.</td>\n",
       "      <td>조금이라도 폰에 대해 관심이 없었다면 Z플립2는 어디로 가고 플립3가 나온거야? 하...</td>\n",
       "    </tr>\n",
       "    <tr>\n",
       "      <th>1</th>\n",
       "      <td>갤럭시 버즈2 Z 플립3 케이스 커버 개봉기</td>\n",
       "      <td>4일 전</td>\n",
       "      <td>이번에 새로 출시한 갤럭시 Z 폴드3와 Z 플립3 모두 역대급 판매량을 기록하면서 ...</td>\n",
       "    </tr>\n",
       "    <tr>\n",
       "      <th>2</th>\n",
       "      <td>갤럭시 z플립3 사전예약 현장 가보니 대세는 이것?</td>\n",
       "      <td>2021.08.17.</td>\n",
       "      <td>Galaxy Z Flip3 사전예약 신청 바로가기! 솔직히 말해서 이번 갤럭시 z플...</td>\n",
       "    </tr>\n",
       "    <tr>\n",
       "      <th>3</th>\n",
       "      <td>접고펴는 갤럭시 z플립3 라벤더 색상! 가격은?</td>\n",
       "      <td>11시간 전</td>\n",
       "      <td>요즘 핫한 갤럭시 z플립3! 통신사 지원금이 처음부터 놀라울 정도로 컸습니다. 가격...</td>\n",
       "    </tr>\n",
       "    <tr>\n",
       "      <th>4</th>\n",
       "      <td>직접 보니 心하네↗ 갤럭시 Z폴드3 &amp; 플립3 인기컬러와 품목은? (이마트 트레이더...</td>\n",
       "      <td>7일 전</td>\n",
       "      <td>ㅎㅎ 지난 주말에 사전예약 중인 갤럭시 Z 폴드3와 플립3, 그리고 버즈2와 갤럭시...</td>\n",
       "    </tr>\n",
       "  </tbody>\n",
       "</table>\n",
       "</div>"
      ]
     },
     "metadata": {},
     "execution_count": 13
    }
   ],
   "metadata": {}
  },
  {
   "cell_type": "code",
   "execution_count": 14,
   "source": [
    "driver.close()"
   ],
   "outputs": [],
   "metadata": {}
  },
  {
   "cell_type": "code",
   "execution_count": null,
   "source": [],
   "outputs": [],
   "metadata": {}
  }
 ],
 "metadata": {
  "orig_nbformat": 4,
  "language_info": {
   "name": "python",
   "version": "3.7.3",
   "mimetype": "text/x-python",
   "codemirror_mode": {
    "name": "ipython",
    "version": 3
   },
   "pygments_lexer": "ipython3",
   "nbconvert_exporter": "python",
   "file_extension": ".py"
  },
  "kernelspec": {
   "name": "python3",
   "display_name": "Python 3.7.3 64-bit ('base': conda)"
  },
  "interpreter": {
   "hash": "8ca95d9937370959fe53b3f81cea8b7fb579a8b2e40b3ed544c9c6bb9cfba242"
  }
 },
 "nbformat": 4,
 "nbformat_minor": 2
}