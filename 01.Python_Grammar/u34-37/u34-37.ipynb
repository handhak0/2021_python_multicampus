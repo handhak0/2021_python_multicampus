{
 "cells": [
  {
   "cell_type": "markdown",
   "source": [
    "# Unit 34. 클래스 사용하기"
   ],
   "metadata": {}
  },
  {
   "cell_type": "code",
   "execution_count": 1,
   "source": [
    "# 34.1 클래스와 메서드 만들기 \r\n",
    "\r\n",
    "class Person : \r\n",
    "    def greeting(self) : \r\n",
    "        print('hello')"
   ],
   "outputs": [],
   "metadata": {}
  },
  {
   "cell_type": "code",
   "execution_count": 2,
   "source": [
    "james = Person()\r\n",
    "james.greeting()"
   ],
   "outputs": [
    {
     "output_type": "stream",
     "name": "stdout",
     "text": [
      "hello\n"
     ]
    }
   ],
   "metadata": {}
  },
  {
   "cell_type": "markdown",
   "source": [
    "## 인스턴스와 객체의 차이점? \r\n",
    "\r\n",
    "! 리스트 변수 a,b가 있으면? \r\n",
    "- a, b는 객체입니다. \r\n",
    "- a, b는 list 클래스의 인스턴스입니다. "
   ],
   "metadata": {}
  },
  {
   "cell_type": "code",
   "execution_count": 3,
   "source": [
    "# 빈 클래스 만들기 \r\n",
    "\r\n",
    "class Person : \r\n",
    "    pass\r\n"
   ],
   "outputs": [],
   "metadata": {}
  },
  {
   "cell_type": "markdown",
   "source": [
    "## 속성 만들기 "
   ],
   "metadata": {}
  },
  {
   "cell_type": "code",
   "execution_count": 4,
   "source": [
    "class Person : \r\n",
    "    def __init__(self) : # 인스턴스를 만들 때 호출되는 특별한 메서드, 인스턴스(객체)를 초기화한다 \r\n",
    "        self.hello = \"안녕하세요\" # 클래스 안에서 속성 만들 때 self.\r\n",
    "    def greeting(self) : # 메서드 생성 \r\n",
    "        print(self.hello) # 클래스 안에서 속성을 사용할 때도 self. \r\n",
    "\r\n",
    "james = Person()\r\n",
    "james.greeting()"
   ],
   "outputs": [
    {
     "output_type": "stream",
     "name": "stdout",
     "text": [
      "안녕하세요\n"
     ]
    }
   ],
   "metadata": {}
  },
  {
   "cell_type": "markdown",
   "source": [
    "__가 붙은 메서드는 파이썬이 자동으로 호출해주는 메서드 \r\n",
    "\r\n",
    "self의 의미 \r\n",
    "- self : 인스턴스 자기 자신을 의미 \r\n",
    "- __init__의 매개변수 self에 들어가는 값 = Person()\r\n",
    "- self가 완성된 후, james에 할당 됨 \r\n",
    "- 메서드(greeting)를 호출하면 현재 인스턴스(james-Person)가 자동으로 매개변수 self에 들어온다. "
   ],
   "metadata": {}
  },
  {
   "cell_type": "markdown",
   "source": [
    "## 인스턴스 만들 때 값 받기 "
   ],
   "metadata": {}
  },
  {
   "cell_type": "code",
   "execution_count": 6,
   "source": [
    "class Person : \r\n",
    "    def __init__(self, study, sleep) : \r\n",
    "        self.study = study \r\n",
    "        self.sleep = sleep \r\n",
    "    def today(self) : \r\n",
    "        print('저는 오늘 {}시간 공부하고, {}시간 잤습니다.'.format(self.study, self.sleep))\r\n",
    "\r\n",
    "james = Person(1,6)\r\n",
    "james.today()\r\n"
   ],
   "outputs": [
    {
     "output_type": "stream",
     "name": "stdout",
     "text": [
      "저는 오늘 1시간 공부하고, 6시간 잤습니다.\n"
     ]
    }
   ],
   "metadata": {}
  },
  {
   "cell_type": "code",
   "execution_count": null,
   "source": [
    "# 게임 캐릭터 클래스 만들기 \r\n",
    "\r\n",
    "class Knight : \r\n",
    "    def __init__(self, health, mana, armor) : \r\n",
    "        self.health = health\r\n",
    "        self.mana = mana\r\n",
    "        self.armor = armor \r\n",
    "\r\n",
    "    def slash(self) : \r\n",
    "        print('베기') "
   ],
   "outputs": [],
   "metadata": {}
  },
  {
   "cell_type": "code",
   "execution_count": null,
   "source": [
    "class Annie : \r\n",
    "    def __init__(self, health, mana, ability_power): \r\n",
    "        self.health = health\r\n",
    "        self.mana = mana\r\n",
    "        self.ability_power = ability_power\r\n",
    "\r\n",
    "    def tibbers(self) : \r\n",
    "        a = self.ability_power*0.65+400 \r\n",
    "\r\n",
    "        print('티버: 피해량 {}'.format(a))\r\n",
    "\r\n",
    "\r\n",
    "\r\n",
    "        "
   ],
   "outputs": [],
   "metadata": {}
  },
  {
   "cell_type": "markdown",
   "source": [
    "# Unit 37. 두 점 사이 거리 구하기 "
   ],
   "metadata": {}
  },
  {
   "cell_type": "code",
   "execution_count": 1,
   "source": [
    "class Point2D : \r\n",
    "    def __init__(self, x, y) : \r\n",
    "        self.x = x \r\n",
    "        self.y = y \r\n",
    "\r\n",
    "p1 = Point2D(30, 20)\r\n",
    "p2 = Point2D(60, 50)"
   ],
   "outputs": [],
   "metadata": {}
  },
  {
   "cell_type": "code",
   "execution_count": 2,
   "source": [
    "a = p1.x - p2.x \r\n",
    "b = p1.y - p2.y \r\n"
   ],
   "outputs": [],
   "metadata": {}
  },
  {
   "cell_type": "code",
   "execution_count": null,
   "source": [],
   "outputs": [],
   "metadata": {}
  },
  {
   "cell_type": "code",
   "execution_count": null,
   "source": [],
   "outputs": [],
   "metadata": {}
  },
  {
   "cell_type": "code",
   "execution_count": null,
   "source": [],
   "outputs": [],
   "metadata": {}
  },
  {
   "cell_type": "code",
   "execution_count": null,
   "source": [],
   "outputs": [],
   "metadata": {}
  }
 ],
 "metadata": {
  "orig_nbformat": 4,
  "language_info": {
   "name": "python",
   "version": "3.7.3",
   "mimetype": "text/x-python",
   "codemirror_mode": {
    "name": "ipython",
    "version": 3
   },
   "pygments_lexer": "ipython3",
   "nbconvert_exporter": "python",
   "file_extension": ".py"
  },
  "kernelspec": {
   "name": "python3",
   "display_name": "Python 3.7.3 64-bit ('base': conda)"
  },
  "interpreter": {
   "hash": "8ca95d9937370959fe53b3f81cea8b7fb579a8b2e40b3ed544c9c6bb9cfba242"
  }
 },
 "nbformat": 4,
 "nbformat_minor": 2
}