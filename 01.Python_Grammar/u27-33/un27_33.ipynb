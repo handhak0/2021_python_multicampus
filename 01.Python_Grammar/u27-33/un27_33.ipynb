{
  "nbformat": 4,
  "nbformat_minor": 2,
  "metadata": {
    "colab": {
      "name": "un27-un29.ipynb",
      "provenance": [],
      "collapsed_sections": [
        "qU8vsmhly2VY",
        "HSVLD0c_zmt0",
        "HeGTtCZc08SF",
        "g3LXjoxIO5TD",
        "ZHoaTQ6uRjmx",
        "sJzBKhhOU-TY",
        "w5gnyICOU82F",
        "xS2XHL6YVWBZ",
        "QWSA0YyafwOU",
        "QpEQmS9Chws1",
        "TjxYr8HKijEg",
        "QQYK8Uh9m3y4",
        "J70CYeP9n2xp",
        "TojTThNxpB4b",
        "7SBW6vtdqsAt",
        "aXti3zD2rYk4",
        "vbSA0URcunUu"
      ]
    },
    "kernelspec": {
      "name": "python3",
      "display_name": "Python 3.7.3 64-bit ('base': conda)"
    },
    "language_info": {
      "name": "python",
      "version": "3.7.3",
      "mimetype": "text/x-python",
      "codemirror_mode": {
        "name": "ipython",
        "version": 3
      },
      "pygments_lexer": "ipython3",
      "nbconvert_exporter": "python",
      "file_extension": ".py"
    },
    "interpreter": {
      "hash": "8ca95d9937370959fe53b3f81cea8b7fb579a8b2e40b3ed544c9c6bb9cfba242"
    }
  },
  "cells": [
    {
      "cell_type": "code",
      "execution_count": null,
      "source": [
        "# rwx : read write access\r\n",
        "# - owner -  group - others \r\n",
        "!ls - l sample_data/"
      ],
      "outputs": [
        {
          "output_type": "stream",
          "name": "stdout",
          "text": [
            "ls: cannot access '-': No such file or directory\n",
            "ls: cannot access 'l': No such file or directory\n",
            "sample_data/:\n",
            "anscombe.json\t\t      mnist_test.csv\n",
            "california_housing_test.csv   mnist_train_small.csv\n",
            "california_housing_train.csv  README.md\n"
          ]
        }
      ],
      "metadata": {
        "colab": {
          "base_uri": "https://localhost:8080/"
        },
        "id": "ofzEORqtlEqZ",
        "outputId": "fd623363-99d5-4e80-ff77-cdc2bcdbde60"
      }
    },
    {
      "cell_type": "markdown",
      "source": [
        "# unit 27 파일\n",
        "\n",
        "## 27.1 문자열 쓰기, 읽기 "
      ],
      "metadata": {
        "id": "a6_ioEkcmkSd"
      }
    },
    {
      "cell_type": "code",
      "execution_count": null,
      "source": [
        "file = open('hello.txt', 'w') # mode = w (write) // read close 등 모드가 있음 \r\n",
        "file.write('Hello, world!') # write하기 \r\n",
        "file.close() # 파일 객체 닫기 \r\n",
        "\r\n",
        "## 항상 파일은 open하고 write하고 close하게 되어 있음 "
      ],
      "outputs": [],
      "metadata": {
        "id": "tB0kBSWAmcn_"
      }
    },
    {
      "cell_type": "code",
      "execution_count": null,
      "source": [
        "# cat은 unix 명령어 (윈도우에서는 type)\r\n",
        "!cat hello.txt #파일 내용 보기 "
      ],
      "outputs": [
        {
          "output_type": "stream",
          "name": "stdout",
          "text": [
            "Hello, world!"
          ]
        }
      ],
      "metadata": {
        "colab": {
          "base_uri": "https://localhost:8080/"
        },
        "id": "v4CDvamVnEZt",
        "outputId": "2ab8d44f-1a71-46ec-9236-6be510ad54a8"
      }
    },
    {
      "cell_type": "code",
      "execution_count": null,
      "source": [
        "file = open('hello.txt', 'r') # 'r' mode가 default \r\n",
        "s = file.read()\r\n",
        "print(s)\r\n",
        "file.close()\r\n"
      ],
      "outputs": [
        {
          "output_type": "stream",
          "name": "stdout",
          "text": [
            "Hello, world!\n"
          ]
        }
      ],
      "metadata": {
        "colab": {
          "base_uri": "https://localhost:8080/"
        },
        "id": "LLr3G-kbnMOs",
        "outputId": "fa311123-f099-4d1d-cdce-df7b2cf03860"
      }
    },
    {
      "cell_type": "code",
      "execution_count": null,
      "source": [
        "## 파이썬 스타일 "
      ],
      "outputs": [],
      "metadata": {
        "id": "En3oeOhNppZt"
      }
    },
    {
      "cell_type": "code",
      "execution_count": null,
      "source": [
        "with open('hello.txt') as file : #with부터 들여쓰기 하는 부분까지는 file이 open 되어 있다가 끝나면 알아서 close해준다  \r\n",
        "  s = file.read()\r\n",
        "print(s)"
      ],
      "outputs": [
        {
          "output_type": "stream",
          "name": "stdout",
          "text": [
            "Hello, world!\n"
          ]
        }
      ],
      "metadata": {
        "colab": {
          "base_uri": "https://localhost:8080/"
        },
        "id": "ZV2ueD3iprg3",
        "outputId": "114f7e7b-0498-45d6-a9d8-dae15c338f71"
      }
    },
    {
      "cell_type": "code",
      "execution_count": null,
      "source": [
        "with open('hello.txt', 'w') as file : # w는 overwrite 모드임 \r\n",
        "  for i in range(3) : \r\n",
        "    file.write(f'Hello, world! {i+1}\\n')"
      ],
      "outputs": [],
      "metadata": {
        "id": "lyspvp0tqgaF"
      }
    },
    {
      "cell_type": "code",
      "execution_count": null,
      "source": [
        "!cat hello.txt"
      ],
      "outputs": [
        {
          "output_type": "stream",
          "name": "stdout",
          "text": [
            "Hello, world! 1\n",
            "Hello, world! 2\n",
            "Hello, world! 3\n"
          ]
        }
      ],
      "metadata": {
        "colab": {
          "base_uri": "https://localhost:8080/"
        },
        "id": "23hWaxpnqzQF",
        "outputId": "5fd01399-58d0-4627-ef32-b87cc9e31384"
      }
    },
    {
      "cell_type": "code",
      "execution_count": null,
      "source": [
        "lines = ['안녕하세요. \\n' ,'파이썬\\n', '코딩도장입니다.\\n'] \r\n",
        "with open('hello.txt', 'w') as file : #가끔 encoding이 필요한 경우도 있음 \r\n",
        "  file.writelines(lines) #리스트를 line으로 받아서 써주는 것 "
      ],
      "outputs": [],
      "metadata": {
        "id": "_BUqbG46q2Fy"
      }
    },
    {
      "cell_type": "code",
      "execution_count": null,
      "source": [
        "!cat hello.txt"
      ],
      "outputs": [
        {
          "output_type": "stream",
          "name": "stdout",
          "text": [
            "안녕하세요. \n",
            "파이썬\n",
            "코딩도장입니다.\n"
          ]
        }
      ],
      "metadata": {
        "colab": {
          "base_uri": "https://localhost:8080/"
        },
        "id": "_8wfbamvrt3m",
        "outputId": "d5c2d707-fedb-4383-bd93-b9fe9f957e08"
      }
    },
    {
      "cell_type": "code",
      "execution_count": null,
      "source": [
        "s = '''안녕하세요. \r\n",
        "파이썬\r\n",
        "코딩도장입니다.'''\r\n",
        "with open('hello.txt', 'w') as file : \r\n",
        "  file.write(s)"
      ],
      "outputs": [],
      "metadata": {
        "id": "b-9kOtqTrvUU"
      }
    },
    {
      "cell_type": "code",
      "execution_count": null,
      "source": [
        "#여러 줄로 되어있는 경우를 읽는 것 \r\n",
        "\r\n",
        "with open('hello.txt', 'r') as file : \r\n",
        "  s = file.read()\r\n",
        "print(s)"
      ],
      "outputs": [
        {
          "output_type": "stream",
          "name": "stdout",
          "text": [
            "안녕하세요. \n",
            "파이썬\n",
            "코딩도장입니다.\n"
          ]
        }
      ],
      "metadata": {
        "colab": {
          "base_uri": "https://localhost:8080/"
        },
        "id": "msKwHAFks3-1",
        "outputId": "f6c208a5-ea8c-40e4-9756-c09ddf1b084c"
      }
    },
    {
      "cell_type": "code",
      "execution_count": null,
      "source": [
        "# 한 줄만 읽어오기\r\n",
        "with open('hello.txt', 'r') as file : \r\n",
        "  s = file.readline()\r\n",
        "print(s)"
      ],
      "outputs": [
        {
          "output_type": "stream",
          "name": "stdout",
          "text": [
            "안녕하세요. \n",
            "\n"
          ]
        }
      ],
      "metadata": {
        "colab": {
          "base_uri": "https://localhost:8080/"
        },
        "id": "Qg_phse_tCzL",
        "outputId": "9acfb2db-4a05-4ea9-81c0-462fd9275283"
      }
    },
    {
      "cell_type": "code",
      "execution_count": null,
      "source": [
        "# 한 줄씩 읽어오기\r\n",
        "with open('hello.txt', 'r') as file : \r\n",
        "  line = None\r\n",
        "  while line != '':\r\n",
        "    line = file.readline()\r\n",
        "    print(line.strip('\\n'))"
      ],
      "outputs": [
        {
          "output_type": "stream",
          "name": "stdout",
          "text": [
            "안녕하세요. \n",
            "파이썬\n",
            "코딩도장입니다.\n",
            "\n"
          ]
        }
      ],
      "metadata": {
        "colab": {
          "base_uri": "https://localhost:8080/"
        },
        "id": "GSRiWeOttUf4",
        "outputId": "59cc04d2-000b-4e34-ad28-e845e776fc34"
      }
    },
    {
      "cell_type": "code",
      "execution_count": null,
      "source": [
        "# 한 줄씩 읽어오기\r\n",
        "with open('hello.txt', 'r') as file : \r\n",
        "  for line in file:\r\n",
        "    print(line.strip('\\n'))"
      ],
      "outputs": [
        {
          "output_type": "stream",
          "name": "stdout",
          "text": [
            "안녕하세요. \n",
            "파이썬\n",
            "코딩도장입니다.\n"
          ]
        }
      ],
      "metadata": {
        "colab": {
          "base_uri": "https://localhost:8080/"
        },
        "id": "p5I_dbkht3rh",
        "outputId": "21d373eb-a2a3-4de5-e146-c0bb9c34e887"
      }
    },
    {
      "cell_type": "code",
      "execution_count": null,
      "source": [
        "dir(file)\r\n",
        "\r\n",
        "#'__iter__'가 정의되어 있으면 for문을 사용할 수 있다. "
      ],
      "outputs": [
        {
          "output_type": "execute_result",
          "data": {
            "text/plain": [
              "['_CHUNK_SIZE',\n",
              " '__class__',\n",
              " '__del__',\n",
              " '__delattr__',\n",
              " '__dict__',\n",
              " '__dir__',\n",
              " '__doc__',\n",
              " '__enter__',\n",
              " '__eq__',\n",
              " '__exit__',\n",
              " '__format__',\n",
              " '__ge__',\n",
              " '__getattribute__',\n",
              " '__getstate__',\n",
              " '__gt__',\n",
              " '__hash__',\n",
              " '__init__',\n",
              " '__init_subclass__',\n",
              " '__iter__',\n",
              " '__le__',\n",
              " '__lt__',\n",
              " '__ne__',\n",
              " '__new__',\n",
              " '__next__',\n",
              " '__reduce__',\n",
              " '__reduce_ex__',\n",
              " '__repr__',\n",
              " '__setattr__',\n",
              " '__sizeof__',\n",
              " '__str__',\n",
              " '__subclasshook__',\n",
              " '_checkClosed',\n",
              " '_checkReadable',\n",
              " '_checkSeekable',\n",
              " '_checkWritable',\n",
              " '_finalizing',\n",
              " 'buffer',\n",
              " 'close',\n",
              " 'closed',\n",
              " 'detach',\n",
              " 'encoding',\n",
              " 'errors',\n",
              " 'fileno',\n",
              " 'flush',\n",
              " 'isatty',\n",
              " 'line_buffering',\n",
              " 'mode',\n",
              " 'name',\n",
              " 'newlines',\n",
              " 'read',\n",
              " 'readable',\n",
              " 'readline',\n",
              " 'readlines',\n",
              " 'reconfigure',\n",
              " 'seek',\n",
              " 'seekable',\n",
              " 'tell',\n",
              " 'truncate',\n",
              " 'writable',\n",
              " 'write',\n",
              " 'write_through',\n",
              " 'writelines']"
            ]
          },
          "metadata": {
            "tags": []
          },
          "execution_count": 21
        }
      ],
      "metadata": {
        "colab": {
          "base_uri": "https://localhost:8080/"
        },
        "id": "uDEtLPn5xLN-",
        "outputId": "8e34df51-9602-45e2-ac84-12817cab118f"
      }
    },
    {
      "cell_type": "code",
      "execution_count": null,
      "source": [
        "x = {'a' : 10, 'b' : 20 }\r\n",
        "dir (x) \r\n",
        "\r\n",
        "#le 는 부등호 len은 len을 사용가능하다 "
      ],
      "outputs": [
        {
          "output_type": "execute_result",
          "data": {
            "text/plain": [
              "['__class__',\n",
              " '__contains__',\n",
              " '__delattr__',\n",
              " '__delitem__',\n",
              " '__dir__',\n",
              " '__doc__',\n",
              " '__eq__',\n",
              " '__format__',\n",
              " '__ge__',\n",
              " '__getattribute__',\n",
              " '__getitem__',\n",
              " '__gt__',\n",
              " '__hash__',\n",
              " '__init__',\n",
              " '__init_subclass__',\n",
              " '__iter__',\n",
              " '__le__',\n",
              " '__len__',\n",
              " '__lt__',\n",
              " '__ne__',\n",
              " '__new__',\n",
              " '__reduce__',\n",
              " '__reduce_ex__',\n",
              " '__repr__',\n",
              " '__setattr__',\n",
              " '__setitem__',\n",
              " '__sizeof__',\n",
              " '__str__',\n",
              " '__subclasshook__',\n",
              " 'clear',\n",
              " 'copy',\n",
              " 'fromkeys',\n",
              " 'get',\n",
              " 'items',\n",
              " 'keys',\n",
              " 'pop',\n",
              " 'popitem',\n",
              " 'setdefault',\n",
              " 'update',\n",
              " 'values']"
            ]
          },
          "metadata": {
            "tags": []
          },
          "execution_count": 22
        }
      ],
      "metadata": {
        "colab": {
          "base_uri": "https://localhost:8080/"
        },
        "id": "rJ0sY28LxOxe",
        "outputId": "98d12f17-a471-49d3-91b2-5a4b27c553e5"
      }
    },
    {
      "cell_type": "code",
      "execution_count": null,
      "source": [
        "# 글자수 읽어오기\r\n",
        "with open('hello.txt', 'r') as file : \r\n",
        "  s = file.read(10) #10글자 읽어오라는 듯 \r\n",
        "print(s)"
      ],
      "outputs": [
        {
          "output_type": "stream",
          "name": "stdout",
          "text": [
            "안녕하세요. \n",
            "파이\n"
          ]
        }
      ],
      "metadata": {
        "colab": {
          "base_uri": "https://localhost:8080/"
        },
        "id": "Lk1jYVljyBFS",
        "outputId": "c7bf2f14-0847-4642-eb21-b708748a86ca"
      }
    },
    {
      "cell_type": "markdown",
      "source": [
        "### append"
      ],
      "metadata": {
        "id": "qU8vsmhly2VY"
      }
    },
    {
      "cell_type": "code",
      "execution_count": null,
      "source": [
        "with open('hello.txt', 'a') as file : # append\r\n",
        "  file.write('Append\\n')  "
      ],
      "outputs": [],
      "metadata": {
        "id": "CUwt2dmLyewC"
      }
    },
    {
      "cell_type": "code",
      "execution_count": null,
      "source": [
        "!cat hello.txt"
      ],
      "outputs": [
        {
          "output_type": "stream",
          "name": "stdout",
          "text": [
            "안녕하세요. \n",
            "파이썬\n",
            "코딩도장입니다.Append\n"
          ]
        }
      ],
      "metadata": {
        "colab": {
          "base_uri": "https://localhost:8080/"
        },
        "id": "JlRt0gpHyn9e",
        "outputId": "4d501af8-3609-49f9-a120-12065d47f909"
      }
    },
    {
      "cell_type": "markdown",
      "source": [
        "### binary mode"
      ],
      "metadata": {
        "id": "HSVLD0c_zmt0"
      }
    },
    {
      "cell_type": "code",
      "execution_count": null,
      "source": [
        "# 피클링할 때 사용하는 것임\r\n",
        "with open('chairs.jpg', 'rb') as bin : #rb : readbinary \r\n",
        "  x=bin.read(10)\r\n",
        "\r\n",
        "print(f'{x:x}')"
      ],
      "outputs": [
        {
          "output_type": "error",
          "ename": "FileNotFoundError",
          "evalue": "ignored",
          "traceback": [
            "\u001b[0;31m---------------------------------------------------------------------------\u001b[0m",
            "\u001b[0;31mFileNotFoundError\u001b[0m                         Traceback (most recent call last)",
            "\u001b[0;32m<ipython-input-34-b7ad97a976e0>\u001b[0m in \u001b[0;36m<module>\u001b[0;34m()\u001b[0m\n\u001b[1;32m      1\u001b[0m \u001b[0;31m# 피클링할 때 사용하는 것임\u001b[0m\u001b[0;34m\u001b[0m\u001b[0;34m\u001b[0m\u001b[0;34m\u001b[0m\u001b[0m\n\u001b[0;32m----> 2\u001b[0;31m \u001b[0;32mwith\u001b[0m \u001b[0mopen\u001b[0m\u001b[0;34m(\u001b[0m\u001b[0;34m'chairs.jpg'\u001b[0m\u001b[0;34m,\u001b[0m \u001b[0;34m'rb'\u001b[0m\u001b[0;34m)\u001b[0m \u001b[0;32mas\u001b[0m \u001b[0mbin\u001b[0m \u001b[0;34m:\u001b[0m \u001b[0;31m#rb : readbinary\u001b[0m\u001b[0;34m\u001b[0m\u001b[0;34m\u001b[0m\u001b[0m\n\u001b[0m\u001b[1;32m      3\u001b[0m   \u001b[0mx\u001b[0m\u001b[0;34m=\u001b[0m\u001b[0mbin\u001b[0m\u001b[0;34m.\u001b[0m\u001b[0mread\u001b[0m\u001b[0;34m(\u001b[0m\u001b[0;36m10\u001b[0m\u001b[0;34m)\u001b[0m\u001b[0;34m\u001b[0m\u001b[0;34m\u001b[0m\u001b[0m\n\u001b[1;32m      4\u001b[0m \u001b[0;34m\u001b[0m\u001b[0m\n\u001b[1;32m      5\u001b[0m \u001b[0mprint\u001b[0m\u001b[0;34m(\u001b[0m\u001b[0;34mf'{x:x}'\u001b[0m\u001b[0;34m)\u001b[0m\u001b[0;34m\u001b[0m\u001b[0;34m\u001b[0m\u001b[0m\n",
            "\u001b[0;31mFileNotFoundError\u001b[0m: [Errno 2] No such file or directory: 'chairs.jpg'"
          ]
        }
      ],
      "metadata": {
        "colab": {
          "base_uri": "https://localhost:8080/",
          "height": 250
        },
        "id": "aduLbqnhz3m6",
        "outputId": "107c0362-7b6d-4e3f-9abb-9423e61dcd09"
      }
    },
    {
      "cell_type": "markdown",
      "source": [
        "## 27.3 파이썬 객체 읽고 쓰기"
      ],
      "metadata": {
        "id": "HeGTtCZc08SF"
      }
    },
    {
      "cell_type": "code",
      "execution_count": null,
      "source": [
        "#모델을 파일에다가 저장하는 경우가 생기는데 그럴 때 피클링을 사용한다. \r\n",
        "\r\n",
        "import pickle \r\n",
        "\r\n",
        "scores = {'kor' : 90, 'eng' : 95, 'mat' : 80}\r\n",
        "with open('binary.pkl', 'wb') as file : \r\n",
        "  pickle.dump(scores, file)"
      ],
      "outputs": [],
      "metadata": {
        "id": "ysFhco6k06uC"
      }
    },
    {
      "cell_type": "code",
      "execution_count": null,
      "source": [
        "!cat binary.pkl"
      ],
      "outputs": [
        {
          "output_type": "stream",
          "name": "stdout",
          "text": [
            "�\u0003}q\u0000(X\u0003\u0000\u0000\u0000korq\u0001KZX\u0003\u0000\u0000\u0000engq\u0002K_X\u0003\u0000\u0000\u0000matq\u0003KPu."
          ]
        }
      ],
      "metadata": {
        "colab": {
          "base_uri": "https://localhost:8080/"
        },
        "id": "ljYC2cq11iz5",
        "outputId": "54e615d8-b510-46f5-9a01-32484b962904"
      }
    },
    {
      "cell_type": "code",
      "execution_count": null,
      "source": [
        "with open('binary.pkl','rb') as file : \r\n",
        "  new_scores = pickle.load(file)\r\n",
        "  \r\n",
        "new_scores"
      ],
      "outputs": [
        {
          "output_type": "execute_result",
          "data": {
            "text/plain": [
              "{'eng': 95, 'kor': 90, 'mat': 80}"
            ]
          },
          "metadata": {
            "tags": []
          },
          "execution_count": 39
        }
      ],
      "metadata": {
        "colab": {
          "base_uri": "https://localhost:8080/"
        },
        "id": "oZdJ1y6Z1rbT",
        "outputId": "0c0910e6-d96f-46ec-9468-25cdabd46582"
      }
    },
    {
      "cell_type": "code",
      "execution_count": null,
      "source": [
        "8+40+5.5"
      ],
      "outputs": [
        {
          "output_type": "execute_result",
          "data": {
            "text/plain": [
              "53.5"
            ]
          },
          "metadata": {
            "tags": []
          },
          "execution_count": 40
        }
      ],
      "metadata": {
        "colab": {
          "base_uri": "https://localhost:8080/"
        },
        "id": "iBL4EqeZ1zb8",
        "outputId": "186e9778-bdd3-4822-9e5d-de5d2ef8ceac"
      }
    },
    {
      "cell_type": "code",
      "execution_count": null,
      "source": [
        "53.5*11150"
      ],
      "outputs": [
        {
          "output_type": "execute_result",
          "data": {
            "text/plain": [
              "596525.0"
            ]
          },
          "metadata": {
            "tags": []
          },
          "execution_count": 43
        }
      ],
      "metadata": {
        "colab": {
          "base_uri": "https://localhost:8080/"
        },
        "id": "dEdIkhIP3ifZ",
        "outputId": "351d9a5d-8161-4447-d077-233fc0c8375d"
      }
    },
    {
      "cell_type": "code",
      "execution_count": null,
      "source": [
        "'''\r\n",
        "github에 코드를 공개할 때, key값은 file에다가 저장해둠 \r\n",
        "apikey.txt 에 저장해두고 \r\n",
        "프로그램에서는 apikey를 key = f.read(apikey.txt) 로 사용 \r\n",
        "apikey는 gitignore에다가 저장해둠 \r\n",
        "그러면 apikey.txt 는 github에 안올라감 \r\n",
        "'''\r\n"
      ],
      "outputs": [],
      "metadata": {
        "id": "IXTkEScw3kOy"
      }
    },
    {
      "cell_type": "markdown",
      "source": [
        "# Unit 29. 함수"
      ],
      "metadata": {
        "id": "IZJlQYwVM-hs"
      }
    },
    {
      "cell_type": "markdown",
      "source": [
        "## 29.1 출력 함수 만들기"
      ],
      "metadata": {
        "id": "g3LXjoxIO5TD"
      }
    },
    {
      "cell_type": "code",
      "execution_count": null,
      "source": [
        "# 함수는 모듈화를 통해 반복되는 코드를 간략하게 만들어주는 것 \r\n",
        "\r\n",
        "# 코드의 용도를 구분할 수 있게 해준다 \r\n",
        "# 코드를 재사용할 수 있다\r\n",
        "# 실수를 줄일 수 있다 \r\n",
        "\r\n",
        "def hello() : \r\n",
        "  print('Hello, world!')"
      ],
      "outputs": [],
      "metadata": {
        "id": "-GVFukCNM-TZ"
      }
    },
    {
      "cell_type": "code",
      "execution_count": null,
      "source": [
        "hello()"
      ],
      "outputs": [
        {
          "output_type": "stream",
          "name": "stdout",
          "text": [
            "Hello, world!\n"
          ]
        }
      ],
      "metadata": {
        "colab": {
          "base_uri": "https://localhost:8080/"
        },
        "id": "SxnL5TLkO06z",
        "outputId": "63bbb54f-73d6-4b90-9835-90f7fb8423ee"
      }
    },
    {
      "cell_type": "code",
      "execution_count": null,
      "source": [
        "def hello2() : \r\n",
        "  print('Hello, world!')"
      ],
      "outputs": [],
      "metadata": {
        "id": "u5yUnoWeO3Dg"
      }
    },
    {
      "cell_type": "markdown",
      "source": [
        "# 29.2 덧셈 함수"
      ],
      "metadata": {
        "id": "FUjH6mzGPzrh"
      }
    },
    {
      "cell_type": "code",
      "execution_count": null,
      "source": [
        "# 유용한 함수가 되기 위해선 유연성이 중요함 \r\n",
        "# 매개변수, parameter, argument\r\n",
        "def add(a, b) : \r\n",
        "  \"\"\"\r\n",
        "  이 함수는 a와 b를 더한 뒤 결과를 반환하는 함수입니다. \r\n",
        "  \"\"\"\r\n",
        "  return a + b \r\n"
      ],
      "outputs": [],
      "metadata": {
        "id": "A05_FKi2P1KI"
      }
    },
    {
      "cell_type": "code",
      "execution_count": null,
      "source": [
        "add(4,5)"
      ],
      "outputs": [
        {
          "output_type": "execute_result",
          "data": {
            "text/plain": [
              "9"
            ]
          },
          "metadata": {
            "tags": []
          },
          "execution_count": 47
        }
      ],
      "metadata": {
        "colab": {
          "base_uri": "https://localhost:8080/"
        },
        "id": "adA92tHHQdac",
        "outputId": "99f99820-f4e0-4723-aefd-af60ee762440"
      }
    },
    {
      "cell_type": "code",
      "execution_count": null,
      "source": [
        "# 도움말 호출 \r\n",
        "add?"
      ],
      "outputs": [],
      "metadata": {
        "id": "gkm02TliQeRj"
      }
    },
    {
      "cell_type": "markdown",
      "source": [
        "## 29.3 결과값 반환"
      ],
      "metadata": {
        "id": "ZHoaTQ6uRjmx"
      }
    },
    {
      "cell_type": "code",
      "execution_count": null,
      "source": [
        "def add(a,b) : \r\n",
        "  return a+b "
      ],
      "outputs": [],
      "metadata": {
        "id": "SI2PLp_XRT5n"
      }
    },
    {
      "cell_type": "code",
      "execution_count": null,
      "source": [
        "add(4,5) , add(10,20)"
      ],
      "outputs": [
        {
          "output_type": "execute_result",
          "data": {
            "text/plain": [
              "(9, 30)"
            ]
          },
          "metadata": {
            "tags": []
          },
          "execution_count": 52
        }
      ],
      "metadata": {
        "colab": {
          "base_uri": "https://localhost:8080/"
        },
        "id": "hyKBrX-oRoyS",
        "outputId": "639dc9c2-2d24-4803-f6a1-c0d2b8a62b14"
      }
    },
    {
      "cell_type": "code",
      "execution_count": null,
      "source": [
        "x = add(24, 45)\r\n",
        "x"
      ],
      "outputs": [
        {
          "output_type": "execute_result",
          "data": {
            "text/plain": [
              "69"
            ]
          },
          "metadata": {
            "tags": []
          },
          "execution_count": 53
        }
      ],
      "metadata": {
        "colab": {
          "base_uri": "https://localhost:8080/"
        },
        "id": "H7KMZCDJRrDC",
        "outputId": "fbe64f2c-f953-44e7-f877-928af536c431"
      }
    },
    {
      "cell_type": "code",
      "execution_count": null,
      "source": [
        "def is_ten(x) :\r\n",
        "  return x ==10 "
      ],
      "outputs": [],
      "metadata": {
        "id": "47KaqkZkR2Qx"
      }
    },
    {
      "cell_type": "code",
      "execution_count": null,
      "source": [
        "is_ten(101//10)"
      ],
      "outputs": [
        {
          "output_type": "execute_result",
          "data": {
            "text/plain": [
              "True"
            ]
          },
          "metadata": {
            "tags": []
          },
          "execution_count": 55
        }
      ],
      "metadata": {
        "colab": {
          "base_uri": "https://localhost:8080/"
        },
        "id": "ufPDqbwWSSt5",
        "outputId": "8c1c77d8-67c2-4c3c-bafb-8343d2203b2a"
      }
    },
    {
      "cell_type": "code",
      "execution_count": null,
      "source": [
        "def not_ten(x) : \r\n",
        "  if x == 10 : \r\n",
        "    return\r\n",
        "  else : \r\n",
        "    print('It is not 10.')\r\n"
      ],
      "outputs": [],
      "metadata": {
        "id": "95zrhN8iSUO4"
      }
    },
    {
      "cell_type": "code",
      "execution_count": null,
      "source": [
        "not_ten(70)"
      ],
      "outputs": [
        {
          "output_type": "stream",
          "name": "stdout",
          "text": [
            "It is not 10.\n"
          ]
        }
      ],
      "metadata": {
        "colab": {
          "base_uri": "https://localhost:8080/"
        },
        "id": "-KXpfNkpSbSA",
        "outputId": "bca10b9a-7812-48e8-f8b8-06548d03db96"
      }
    },
    {
      "cell_type": "markdown",
      "source": [
        "## 29.4 여러 개 반환"
      ],
      "metadata": {
        "id": "sJzBKhhOU-TY"
      }
    },
    {
      "cell_type": "code",
      "execution_count": null,
      "source": [
        "def add_sub(a,b) : \r\n",
        "  return a+b, a-b "
      ],
      "outputs": [],
      "metadata": {
        "id": "DBPrtxBrSffI"
      }
    },
    {
      "cell_type": "markdown",
      "source": [
        "## 29.5 함수의 호출 과정"
      ],
      "metadata": {
        "id": "w5gnyICOU82F"
      }
    },
    {
      "cell_type": "code",
      "execution_count": null,
      "source": [
        "# stack을 이용한다"
      ],
      "outputs": [],
      "metadata": {
        "id": "xoqnt1FIToWd"
      }
    },
    {
      "cell_type": "markdown",
      "source": [
        "## 연습문제 \n",
        "- 3자리 수 정수 두 개를 곱해서 나온 결과가 팔린드롬이 되도록 할 때, 가장 큰 숫자는? "
      ],
      "metadata": {
        "id": "xS2XHL6YVWBZ"
      }
    },
    {
      "cell_type": "code",
      "execution_count": null,
      "source": [
        "# 팔린드롬 ex) 12321 \r\n",
        "\r\n",
        "def palindrome(x) : \r\n",
        "  s = str(x)\r\n",
        "  return s == s[::-1] # 스트링 뒤집기 \r\n",
        "\r\n",
        "\r\n",
        "max_pal = 0 \r\n",
        "for i in range(100,1000) : \r\n",
        "  for k in range(i,1000) : \r\n",
        "    if palindrome(i*k) : \r\n",
        "      if max_pal < i*k : \r\n",
        "        max_pal = i*k\r\n",
        "        m = i \r\n",
        "        n = k \r\n",
        "    else : \r\n",
        "      pass\r\n",
        "max_pal, m, n"
      ],
      "outputs": [
        {
          "output_type": "execute_result",
          "data": {
            "text/plain": [
              "(906609, 913, 993)"
            ]
          },
          "metadata": {
            "tags": []
          },
          "execution_count": 72
        }
      ],
      "metadata": {
        "colab": {
          "base_uri": "https://localhost:8080/"
        },
        "id": "Wq71KJARVVJo",
        "outputId": "81145d5b-4621-45a6-f388-a3d1072dccd2"
      }
    },
    {
      "cell_type": "markdown",
      "source": [
        "# unit 30. 위치 인수와 키워드 인수"
      ],
      "metadata": {
        "id": "ns7ilIHmfovL"
      }
    },
    {
      "cell_type": "markdown",
      "source": [
        "## 30.1 위치 인수"
      ],
      "metadata": {
        "id": "QWSA0YyafwOU"
      }
    },
    {
      "cell_type": "code",
      "execution_count": null,
      "source": [
        "def print_numbers(a,b,c) : \r\n",
        "  print(a)\r\n",
        "  print(b)\r\n",
        "  print(c)\r\n",
        "\r\n",
        "\r\n",
        "print_numbers(10,20,30) # 10,20,30 은 위치 인수"
      ],
      "outputs": [
        {
          "output_type": "stream",
          "name": "stdout",
          "text": [
            "10\n",
            "20\n",
            "30\n"
          ]
        }
      ],
      "metadata": {
        "colab": {
          "base_uri": "https://localhost:8080/"
        },
        "id": "Xs7iD4yofKd6",
        "outputId": "afbc09b5-309c-42e8-d7d5-0e6c2901b46c"
      }
    },
    {
      "cell_type": "code",
      "execution_count": null,
      "source": [
        "# *x 리스트 언팩킹 *y 튜플 언팩킹\r\n",
        "x, y= [10,20,30], (40,50,60)\r\n",
        "\r\n",
        "print_numbers(*x)\r\n",
        "print_numbers(*y)"
      ],
      "outputs": [
        {
          "output_type": "stream",
          "name": "stdout",
          "text": [
            "10\n",
            "20\n",
            "30\n",
            "40\n",
            "50\n",
            "60\n"
          ]
        }
      ],
      "metadata": {
        "colab": {
          "base_uri": "https://localhost:8080/"
        },
        "id": "XxS-Jp5vhHMW",
        "outputId": "ed0ec5da-dd67-4df0-c281-86dd018c6d1b"
      }
    },
    {
      "cell_type": "markdown",
      "source": [
        "## 가변 인수"
      ],
      "metadata": {
        "id": "QpEQmS9Chws1"
      }
    },
    {
      "cell_type": "code",
      "execution_count": null,
      "source": [
        "def print_numbers(*args) : # *args arguments \r\n",
        "  for arg in args : \r\n",
        "    print(arg)"
      ],
      "outputs": [],
      "metadata": {
        "id": "mr1X7rGqhUeH"
      }
    },
    {
      "cell_type": "code",
      "execution_count": null,
      "source": [
        "print_numbers(10,20,30,40,50)"
      ],
      "outputs": [
        {
          "output_type": "stream",
          "name": "stdout",
          "text": [
            "10\n",
            "20\n",
            "30\n",
            "40\n",
            "50\n"
          ]
        }
      ],
      "metadata": {
        "colab": {
          "base_uri": "https://localhost:8080/"
        },
        "id": "XDE_1Eywh_w5",
        "outputId": "425c1062-21d7-4b90-b57a-4ed68db3132c"
      }
    },
    {
      "cell_type": "markdown",
      "source": [
        "### 고정 인수와 가변 인수"
      ],
      "metadata": {
        "id": "TjxYr8HKijEg"
      }
    },
    {
      "cell_type": "code",
      "execution_count": null,
      "source": [
        "# 고정 위치 인수가 가변 위치 인수보다 먼저 나와야 함 \r\n",
        "def print_numbers3(a, *args) : \r\n",
        "  print(a)\r\n",
        "  print(args)"
      ],
      "outputs": [],
      "metadata": {
        "id": "UDlL6qRXiF1e"
      }
    },
    {
      "cell_type": "code",
      "execution_count": null,
      "source": [
        "print_numbers3(1, 100,20,2040)"
      ],
      "outputs": [
        {
          "output_type": "stream",
          "name": "stdout",
          "text": [
            "1\n",
            "(100, 20, 2040)\n"
          ]
        }
      ],
      "metadata": {
        "colab": {
          "base_uri": "https://localhost:8080/"
        },
        "id": "DgWtxPEwirAB",
        "outputId": "fab93a7c-d7ee-48e0-ff33-448edb19521c"
      }
    },
    {
      "cell_type": "code",
      "execution_count": null,
      "source": [
        "print_numbers3(*x)"
      ],
      "outputs": [
        {
          "output_type": "stream",
          "name": "stdout",
          "text": [
            "10\n",
            "(20, 30)\n"
          ]
        }
      ],
      "metadata": {
        "colab": {
          "base_uri": "https://localhost:8080/"
        },
        "id": "bjbmH9Kxiu53",
        "outputId": "488781bb-7731-4727-cdfd-aa6e0617d145"
      }
    },
    {
      "cell_type": "markdown",
      "source": [
        "## 30.2 키워드 인수"
      ],
      "metadata": {
        "id": "QQYK8Uh9m3y4"
      }
    },
    {
      "cell_type": "code",
      "execution_count": null,
      "source": [
        "def personal_info(name, age, addr) : \r\n",
        "  print('이름 : ', name)\r\n",
        "  print('나이 : ', age)\r\n",
        "  print('주소 : ', addr)\r\n",
        "  "
      ],
      "outputs": [],
      "metadata": {
        "id": "lMb92q67jS3v"
      }
    },
    {
      "cell_type": "code",
      "execution_count": null,
      "source": [
        "personal_info('홍길동', 30, '서울 강남구 도곡동')"
      ],
      "outputs": [
        {
          "output_type": "stream",
          "name": "stdout",
          "text": [
            "이름 :  홍길동\n",
            "나이 :  30\n",
            "주소 :  서울 강남구 도곡동\n"
          ]
        }
      ],
      "metadata": {
        "colab": {
          "base_uri": "https://localhost:8080/"
        },
        "id": "_Xy3fATOnFY1",
        "outputId": "92b52fa7-3a7e-4283-ebde-b33aebffd796"
      }
    },
    {
      "cell_type": "markdown",
      "source": [
        "## 30.3 키워드 인수와 딕셔너리 언패킹"
      ],
      "metadata": {
        "id": "J70CYeP9n2xp"
      }
    },
    {
      "cell_type": "code",
      "execution_count": null,
      "source": [
        "x = {'name' : '홍길동', 'age' : 30, 'addr': '서울 강남구'}\r\n",
        "personal_info(**x) # 딕셔너리 언패킹 *하나면 key 출력 **면 value 출력 "
      ],
      "outputs": [
        {
          "output_type": "stream",
          "name": "stdout",
          "text": [
            "이름 :  홍길동\n",
            "나이 :  30\n",
            "주소 :  서울 강남구\n"
          ]
        }
      ],
      "metadata": {
        "colab": {
          "base_uri": "https://localhost:8080/"
        },
        "id": "uEHuWPmfnJLZ",
        "outputId": "2b698810-807f-4772-b8a6-b1cbb56b89fe"
      }
    },
    {
      "cell_type": "markdown",
      "source": [
        "### 가변 키워드 인수"
      ],
      "metadata": {
        "id": "TojTThNxpB4b"
      }
    },
    {
      "cell_type": "code",
      "execution_count": null,
      "source": [
        "def personal(**kwargs) : \r\n",
        "  for key, value in kwargs.items() : \r\n",
        "    print(f'{key} : {value}')"
      ],
      "outputs": [],
      "metadata": {
        "id": "bqos3B8eoFZW"
      }
    },
    {
      "cell_type": "code",
      "execution_count": null,
      "source": [
        "personal(**x)"
      ],
      "outputs": [
        {
          "output_type": "stream",
          "name": "stdout",
          "text": [
            "name : 홍길동\n",
            "age : 30\n",
            "addr : 서울 강남구\n"
          ]
        }
      ],
      "metadata": {
        "colab": {
          "base_uri": "https://localhost:8080/"
        },
        "id": "Yg3kee8Qo7Uv",
        "outputId": "4c51b5c7-acaf-4f02-8751-9bbb66683d0e"
      }
    },
    {
      "cell_type": "code",
      "execution_count": null,
      "source": [
        "personal(name = '홍길동', age = 30) # 두 개만 줘도 괜찮음"
      ],
      "outputs": [
        {
          "output_type": "stream",
          "name": "stdout",
          "text": [
            "name : 홍길동\n",
            "age : 30\n"
          ]
        }
      ],
      "metadata": {
        "colab": {
          "base_uri": "https://localhost:8080/"
        },
        "id": "XbN3EyUvo-3L",
        "outputId": "96f7433a-9b6a-4e63-e713-f7209c45d05c"
      }
    },
    {
      "cell_type": "code",
      "execution_count": null,
      "source": [
        "def personal3(name, **kwargs) : \r\n",
        "  print(name)\r\n",
        "  print(kwargs)"
      ],
      "outputs": [],
      "metadata": {
        "id": "MFwIdbKcqJs2"
      }
    },
    {
      "cell_type": "code",
      "execution_count": null,
      "source": [
        "personal3(**x)"
      ],
      "outputs": [
        {
          "output_type": "stream",
          "name": "stdout",
          "text": [
            "홍길동\n",
            "{'age': 30, 'addr': '서울 강남구'}\n"
          ]
        }
      ],
      "metadata": {
        "colab": {
          "base_uri": "https://localhost:8080/"
        },
        "id": "830b028eqRKI",
        "outputId": "402062aa-9c17-49ad-8d0e-37bb7b9a112a"
      }
    },
    {
      "cell_type": "markdown",
      "source": [
        "### 위치 인수와 키워드 인수"
      ],
      "metadata": {
        "id": "7SBW6vtdqsAt"
      }
    },
    {
      "cell_type": "code",
      "execution_count": null,
      "source": [
        "def my_print(*args, **kwargs) : \r\n",
        "  print(*args, **kwargs)"
      ],
      "outputs": [],
      "metadata": {
        "id": "pWrt_fmFqSXA"
      }
    },
    {
      "cell_type": "code",
      "execution_count": null,
      "source": [
        "my_print(10,20,30, sep =', ')"
      ],
      "outputs": [
        {
          "output_type": "stream",
          "name": "stdout",
          "text": [
            "10, 20, 30\n"
          ]
        }
      ],
      "metadata": {
        "colab": {
          "base_uri": "https://localhost:8080/"
        },
        "id": "_xN1JIdVqxsu",
        "outputId": "7f3f9c54-adb4-4d5e-c048-96c649288ba9"
      }
    },
    {
      "cell_type": "markdown",
      "source": [
        "## 30.4 매개변수에 초기값 지정"
      ],
      "metadata": {
        "id": "aXti3zD2rYk4"
      }
    },
    {
      "cell_type": "code",
      "execution_count": null,
      "source": [
        "def personal_info4(name, age, addr = '비공개') : \r\n",
        "  print('이름 : ', name)\r\n",
        "  print('나이 : ', age)\r\n",
        "  print('주소 : ', addr)"
      ],
      "outputs": [],
      "metadata": {
        "id": "wiftuQG0q3qS"
      }
    },
    {
      "cell_type": "code",
      "execution_count": null,
      "source": [
        "personal_info4('길동', 40)"
      ],
      "outputs": [
        {
          "output_type": "stream",
          "name": "stdout",
          "text": [
            "이름 :  길동\n",
            "나이 :  40\n",
            "주소 :  비공개\n"
          ]
        }
      ],
      "metadata": {
        "colab": {
          "base_uri": "https://localhost:8080/"
        },
        "id": "irIkDdVHrruW",
        "outputId": "fb970a50-bcea-4ad4-f595-cc14df786f28"
      }
    },
    {
      "cell_type": "code",
      "execution_count": null,
      "source": [
        "personal_info4(**x)"
      ],
      "outputs": [
        {
          "output_type": "stream",
          "name": "stdout",
          "text": [
            "이름 :  홍길동\n",
            "나이 :  30\n",
            "주소 :  서울 강남구\n"
          ]
        }
      ],
      "metadata": {
        "colab": {
          "base_uri": "https://localhost:8080/"
        },
        "id": "iyrETrTZrunQ",
        "outputId": "d0b133c0-0be9-488a-ee4b-8467f7f34d8d"
      }
    },
    {
      "cell_type": "markdown",
      "source": [
        "# Unit 31. 재귀호출(Recursive Call)"
      ],
      "metadata": {
        "id": "6K58pUMGuE-E"
      }
    },
    {
      "cell_type": "markdown",
      "source": [
        "## factorial 함수를 재귀호출로 구현 "
      ],
      "metadata": {
        "id": "vbSA0URcunUu"
      }
    },
    {
      "cell_type": "code",
      "execution_count": null,
      "source": [
        "def factorial(n) : \r\n",
        "  if n==0 : \r\n",
        "    return 1 \r\n",
        "  return n*factorial(n-1) # n! = n*(n-1)! 단) n=0일 경우 1 0!=1"
      ],
      "outputs": [],
      "metadata": {
        "id": "kDkJyurcso5R"
      }
    },
    {
      "cell_type": "code",
      "execution_count": null,
      "source": [
        "factorial(5)"
      ],
      "outputs": [
        {
          "output_type": "execute_result",
          "data": {
            "text/plain": [
              "120"
            ]
          },
          "metadata": {
            "tags": []
          },
          "execution_count": 105
        }
      ],
      "metadata": {
        "colab": {
          "base_uri": "https://localhost:8080/"
        },
        "id": "x5C36JU0u0BK",
        "outputId": "7c42fe55-2229-4118-f8f4-c8f62194c090"
      }
    },
    {
      "cell_type": "code",
      "execution_count": null,
      "source": [
        "def fibo(n) : \r\n",
        "  if n < 3 : \r\n",
        "    return 1\r\n",
        "  return fibo(n-1) + fibo(n-2)"
      ],
      "outputs": [],
      "metadata": {
        "id": "iZy2fGryu2HO"
      }
    },
    {
      "cell_type": "code",
      "execution_count": null,
      "source": [
        "fibo(10)"
      ],
      "outputs": [
        {
          "output_type": "execute_result",
          "data": {
            "text/plain": [
              "55"
            ]
          },
          "metadata": {
            "tags": []
          },
          "execution_count": 124
        }
      ],
      "metadata": {
        "colab": {
          "base_uri": "https://localhost:8080/"
        },
        "id": "GErW0uJnwj_N",
        "outputId": "a45a134e-09ef-4469-a046-e8cef9d451c3"
      }
    },
    {
      "cell_type": "code",
      "execution_count": null,
      "source": [
        "[fibo(i) for i in range(1,11)]"
      ],
      "outputs": [
        {
          "output_type": "execute_result",
          "data": {
            "text/plain": [
              "[1, 1, 2, 3, 5, 8, 13, 21, 34, 55]"
            ]
          },
          "metadata": {
            "tags": []
          },
          "execution_count": 125
        }
      ],
      "metadata": {
        "colab": {
          "base_uri": "https://localhost:8080/"
        },
        "id": "rYSb4Z4BwltX",
        "outputId": "f432439e-2c15-4a8d-feb9-4ed72aa795c7"
      }
    },
    {
      "cell_type": "markdown",
      "source": [
        "# Unit 32. 람다 표현식으로 함수 만들기 "
      ],
      "metadata": {}
    },
    {
      "cell_type": "code",
      "execution_count": 1,
      "source": [
        "# 람다 표현식 자체를 호출하기 \r\n",
        "\r\n",
        "(lambda x : x+10)(1)"
      ],
      "outputs": [
        {
          "output_type": "execute_result",
          "data": {
            "text/plain": [
              "11"
            ]
          },
          "metadata": {},
          "execution_count": 1
        }
      ],
      "metadata": {
        "id": "bY5EdJC-07bi"
      }
    },
    {
      "cell_type": "code",
      "execution_count": 2,
      "source": [
        "# 람다 표현식 안에서는 변수를 만들 수 없다 \r\n",
        "\r\n",
        "(lambda x: y=10; x+y)(1)"
      ],
      "outputs": [
        {
          "output_type": "error",
          "ename": "SyntaxError",
          "evalue": "invalid syntax (<ipython-input-2-fd7c1d4dcf4e>, line 3)",
          "traceback": [
            "\u001b[1;36m  File \u001b[1;32m\"<ipython-input-2-fd7c1d4dcf4e>\"\u001b[1;36m, line \u001b[1;32m3\u001b[0m\n\u001b[1;33m    (lambda x: y=10; x+y)(1)\u001b[0m\n\u001b[1;37m                ^\u001b[0m\n\u001b[1;31mSyntaxError\u001b[0m\u001b[1;31m:\u001b[0m invalid syntax\n"
          ]
        }
      ],
      "metadata": {}
    },
    {
      "cell_type": "code",
      "execution_count": 3,
      "source": [
        "y =10 \r\n",
        "(lambda x : x+y)(1)"
      ],
      "outputs": [
        {
          "output_type": "execute_result",
          "data": {
            "text/plain": [
              "11"
            ]
          },
          "metadata": {},
          "execution_count": 3
        }
      ],
      "metadata": {}
    },
    {
      "cell_type": "code",
      "execution_count": 4,
      "source": [
        "# 람다 표현식을 인수로 사용하기 \r\n",
        "\r\n",
        "def plus_ten(x) : \r\n",
        "    return x+10\r\n",
        "\r\n",
        "list(map(plus_ten, [1,2,3]))"
      ],
      "outputs": [
        {
          "output_type": "execute_result",
          "data": {
            "text/plain": [
              "[11, 12, 13]"
            ]
          },
          "metadata": {},
          "execution_count": 4
        }
      ],
      "metadata": {}
    },
    {
      "cell_type": "code",
      "execution_count": 5,
      "source": [
        "list(map(lambda x: x+10, [1,2,3]))"
      ],
      "outputs": [
        {
          "output_type": "execute_result",
          "data": {
            "text/plain": [
              "[11, 12, 13]"
            ]
          },
          "metadata": {},
          "execution_count": 5
        }
      ],
      "metadata": {}
    },
    {
      "cell_type": "code",
      "execution_count": 8,
      "source": [
        "a = list(range(1,11))\r\n",
        "\r\n",
        "list(map(lambda x : str(x) if x%3==0 else x,a)) # 람다 표현식에서 if 를 사용했다면 반드시 else 사용해야 한다. "
      ],
      "outputs": [
        {
          "output_type": "execute_result",
          "data": {
            "text/plain": [
              "[1, 2, '3', 4, 5, '6', 7, 8, '9', 10]"
            ]
          },
          "metadata": {},
          "execution_count": 8
        }
      ],
      "metadata": {}
    },
    {
      "cell_type": "code",
      "execution_count": 10,
      "source": [
        "# map에 객체를 여러 개 넣기 \r\n",
        "\r\n",
        "a = [1,2,3,4,5]\r\n",
        "b = list(range(2,12,2))\r\n",
        "\r\n",
        "list(map(lambda x, y : x*y, a, b))"
      ],
      "outputs": [
        {
          "output_type": "execute_result",
          "data": {
            "text/plain": [
              "[2, 8, 18, 32, 50]"
            ]
          },
          "metadata": {},
          "execution_count": 10
        }
      ],
      "metadata": {}
    },
    {
      "cell_type": "code",
      "execution_count": 11,
      "source": [
        "a = [3,4,1,7,12,9,45]\r\n",
        "list(filter(lambda x: x>5 and x<10, a))"
      ],
      "outputs": [
        {
          "output_type": "execute_result",
          "data": {
            "text/plain": [
              "[7, 9]"
            ]
          },
          "metadata": {},
          "execution_count": 11
        }
      ],
      "metadata": {}
    },
    {
      "cell_type": "markdown",
      "source": [
        "# Unit 33. 클로저 사용하기 "
      ],
      "metadata": {}
    },
    {
      "cell_type": "code",
      "execution_count": 12,
      "source": [
        "def print_hello() : \r\n",
        "    hello = 'hello world'\r\n",
        "\r\n",
        "    def print_message(): \r\n",
        "        print(hello)\r\n",
        "    print_message()\r\n",
        "\r\n",
        "print_hello()"
      ],
      "outputs": [
        {
          "output_type": "stream",
          "name": "stdout",
          "text": [
            "hello world\n"
          ]
        }
      ],
      "metadata": {}
    },
    {
      "cell_type": "code",
      "execution_count": 16,
      "source": [
        "# 지역 변수 변경하기 \r\n",
        "\r\n",
        "def A() : \r\n",
        "    x = 10 \r\n",
        "    def B() : \r\n",
        "        nonlocal x \r\n",
        "        x = 20 \r\n",
        "    B()\r\n",
        "\r\n",
        "    print(x)\r\n",
        "A()"
      ],
      "outputs": [
        {
          "output_type": "stream",
          "name": "stdout",
          "text": [
            "20\n"
          ]
        }
      ],
      "metadata": {}
    },
    {
      "cell_type": "code",
      "execution_count": 14,
      "source": [
        "# global 변수 \r\n",
        "\r\n",
        "x = 1 \r\n",
        "\r\n",
        "def A() : \r\n",
        "    x = 10 \r\n",
        "    def B() : \r\n",
        "        x =20 \r\n",
        "        def C() : \r\n",
        "            global x \r\n",
        "            x = x +30 \r\n",
        "            print(x)\r\n",
        "        C()\r\n",
        "    B()\r\n",
        "\r\n",
        "A()"
      ],
      "outputs": [
        {
          "output_type": "stream",
          "name": "stdout",
          "text": [
            "31\n"
          ]
        }
      ],
      "metadata": {}
    },
    {
      "cell_type": "code",
      "execution_count": 17,
      "source": [
        "# 클로저 사용하기 : 함수를 둘러싼 환경을 계속 유지하다가, 함수를 호출할 때 다시 꺼내서 사용하는 함수\r\n",
        "\r\n",
        "def calc() : \r\n",
        "    a = 3 \r\n",
        "    b = 5 \r\n",
        "    def mul_add(x) : \r\n",
        "        return a * x + b \r\n",
        "    return mul_add # mui_add 함수를 반환 \r\n",
        "\r\n",
        "c = calc() # 클로저 함수 \r\n",
        "\r\n",
        "print(c(1), c(2))"
      ],
      "outputs": [
        {
          "output_type": "stream",
          "name": "stdout",
          "text": [
            "8 11\n"
          ]
        }
      ],
      "metadata": {}
    },
    {
      "cell_type": "code",
      "execution_count": 19,
      "source": [
        "def calc() : \r\n",
        "    a = 3 \r\n",
        "    b = 5 \r\n",
        "    return lambda x : a*x+b\r\n",
        "\r\n",
        "c = calc()\r\n",
        "c(1)"
      ],
      "outputs": [
        {
          "output_type": "execute_result",
          "data": {
            "text/plain": [
              "8"
            ]
          },
          "metadata": {},
          "execution_count": 19
        }
      ],
      "metadata": {}
    },
    {
      "cell_type": "code",
      "execution_count": null,
      "source": [],
      "outputs": [],
      "metadata": {}
    }
  ]
}