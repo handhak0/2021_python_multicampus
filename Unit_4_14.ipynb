{
  "nbformat": 4,
  "nbformat_minor": 0,
  "metadata": {
    "colab": {
      "name": "Unit 4 - 14.ipynb",
      "provenance": [],
      "authorship_tag": "ABX9TyNEk6kgbZQirnvAaHgWdtqd",
      "include_colab_link": true
    },
    "kernelspec": {
      "name": "python3",
      "display_name": "Python 3"
    },
    "language_info": {
      "name": "python"
    }
  },
  "cells": [
    {
      "cell_type": "markdown",
      "metadata": {
        "id": "view-in-github",
        "colab_type": "text"
      },
      "source": [
        "<a href=\"https://colab.research.google.com/github/handhak0/python_multicampus/blob/main/Unit_4_14.ipynb\" target=\"_parent\"><img src=\"https://colab.research.google.com/assets/colab-badge.svg\" alt=\"Open In Colab\"/></a>"
      ]
    },
    {
      "cell_type": "markdown",
      "metadata": {
        "id": "ySddU_4Y58LO"
      },
      "source": [
        "# Unit 4. 기본 문법 알아보기"
      ]
    },
    {
      "cell_type": "code",
      "metadata": {
        "id": "M0IJXtNeVSMg",
        "colab": {
          "base_uri": "https://localhost:8080/"
        },
        "outputId": "b9ac4c3f-127f-4dce-c46a-a042f8bccd99"
      },
      "source": [
        "# 4.1 세미콜론 \n",
        "\n",
        "print('Hello') ; print('World')"
      ],
      "execution_count": 1,
      "outputs": [
        {
          "output_type": "stream",
          "text": [
            "Hello\n",
            "World\n"
          ],
          "name": "stdout"
        }
      ]
    },
    {
      "cell_type": "markdown",
      "metadata": {
        "id": "f_ngPMzf57ZB"
      },
      "source": [
        "# Unit 5. 숫자 계산하기"
      ]
    },
    {
      "cell_type": "code",
      "metadata": {
        "colab": {
          "base_uri": "https://localhost:8080/"
        },
        "id": "WbsC3zkt6fHV",
        "outputId": "1af70401-ae85-48aa-f49a-c37abcdea59a"
      },
      "source": [
        "# 5.1 정수 계산하기 \n",
        "\n",
        "# int \n",
        "\n",
        "print(1+1) ; print(15/2) ; print(5//2) ; print(5%2) ; print(2**10) ; print(int(3.3)) ; print(type(10))"
      ],
      "execution_count": 4,
      "outputs": [
        {
          "output_type": "stream",
          "text": [
            "2\n",
            "7.5\n",
            "2\n",
            "1\n",
            "1024\n",
            "3\n",
            "<class 'int'>\n"
          ],
          "name": "stdout"
        }
      ]
    },
    {
      "cell_type": "markdown",
      "metadata": {
        "id": "Og_v_37h7H8k"
      },
      "source": [
        "*몫과 나머지 함께 구하기*"
      ]
    },
    {
      "cell_type": "code",
      "metadata": {
        "colab": {
          "base_uri": "https://localhost:8080/"
        },
        "id": "mhM7BcFl6nMt",
        "outputId": "b1151b22-ab34-4997-90dc-6e283667f34c"
      },
      "source": [
        "# 몫과 나머지 함께 구하기 \n",
        "divmod(5,2)"
      ],
      "execution_count": 5,
      "outputs": [
        {
          "output_type": "execute_result",
          "data": {
            "text/plain": [
              "(2, 1)"
            ]
          },
          "metadata": {
            "tags": []
          },
          "execution_count": 5
        }
      ]
    },
    {
      "cell_type": "code",
      "metadata": {
        "colab": {
          "base_uri": "https://localhost:8080/"
        },
        "id": "UqApQH-17LdB",
        "outputId": "ca4feed5-d539-4614-b87d-22c07aebde2a"
      },
      "source": [
        "q , r = divmod(5,2)\n",
        "q , r"
      ],
      "execution_count": 6,
      "outputs": [
        {
          "output_type": "execute_result",
          "data": {
            "text/plain": [
              "(2, 1)"
            ]
          },
          "metadata": {
            "tags": []
          },
          "execution_count": 6
        }
      ]
    },
    {
      "cell_type": "markdown",
      "metadata": {
        "id": "hzHfkdIl7UKM"
      },
      "source": [
        "*진수*"
      ]
    },
    {
      "cell_type": "code",
      "metadata": {
        "colab": {
          "base_uri": "https://localhost:8080/"
        },
        "id": "EnpNAMv07QkW",
        "outputId": "20030a63-cef8-4474-9b35-437ac9a226ce"
      },
      "source": [
        "# 진수, 8진수, 16진수 \n",
        "\n",
        "# 2진수 : 숫자 앞에 0b 붙임 \n",
        "print(0b110)\n",
        "\n",
        "# 8진수 : 숫자 앞에 0o을 붙임\n",
        "print(0o10)\n",
        "\n",
        "#16진수 : 숫자 앞에 0x 또는 0X 붙이며 0~9, A~F 까지 사용 \n",
        "\n",
        "print(0xF)\n"
      ],
      "execution_count": 7,
      "outputs": [
        {
          "output_type": "stream",
          "text": [
            "6\n",
            "8\n",
            "15\n"
          ],
          "name": "stdout"
        }
      ]
    },
    {
      "cell_type": "code",
      "metadata": {
        "colab": {
          "base_uri": "https://localhost:8080/"
        },
        "id": "JukgBLl570Ev",
        "outputId": "ef32eaed-90a1-4885-ae2a-caa47d6f622d"
      },
      "source": [
        "# 5.2 실수 계산하기 \n",
        "\n",
        "float('5.3')"
      ],
      "execution_count": 8,
      "outputs": [
        {
          "output_type": "execute_result",
          "data": {
            "text/plain": [
              "5.3"
            ]
          },
          "metadata": {
            "tags": []
          },
          "execution_count": 8
        }
      ]
    },
    {
      "cell_type": "markdown",
      "metadata": {
        "id": "LLlfkccD7_ic"
      },
      "source": [
        "*복소수*"
      ]
    },
    {
      "cell_type": "code",
      "metadata": {
        "colab": {
          "base_uri": "https://localhost:8080/"
        },
        "id": "EfEN0ZCm7-Yw",
        "outputId": "53bdcb15-a072-43e6-dffd-575056040f8e"
      },
      "source": [
        "# complex 사용 \n",
        "complex(1.2, 1.3)"
      ],
      "execution_count": 9,
      "outputs": [
        {
          "output_type": "execute_result",
          "data": {
            "text/plain": [
              "(1.2+1.3j)"
            ]
          },
          "metadata": {
            "tags": []
          },
          "execution_count": 9
        }
      ]
    },
    {
      "cell_type": "code",
      "metadata": {
        "colab": {
          "base_uri": "https://localhost:8080/"
        },
        "id": "ViHBXx6_8JSt",
        "outputId": "2e9d5b29-d615-48f0-c6f8-bb5a80486572"
      },
      "source": [
        "# 5.5 연습문제 : 아파트에서 소음이 가장 심한 층수 출력하기 \n",
        "\n",
        "print(int(0.2467 * 12 + 4.159))"
      ],
      "execution_count": 11,
      "outputs": [
        {
          "output_type": "stream",
          "text": [
            "7\n"
          ],
          "name": "stdout"
        }
      ]
    },
    {
      "cell_type": "code",
      "metadata": {
        "colab": {
          "base_uri": "https://localhost:8080/"
        },
        "id": "KlY_LKiY8piC",
        "outputId": "83a421db-2682-4d3d-c208-78bf28e4c98a"
      },
      "source": [
        "# 5.6 심사문제 : 스킬 공격력 출력하기 \n",
        "AP = 102 \n",
        "damage = AP*0.6 + 225 \n",
        "\n",
        "print(damage)"
      ],
      "execution_count": 12,
      "outputs": [
        {
          "output_type": "stream",
          "text": [
            "286.2\n"
          ],
          "name": "stdout"
        }
      ]
    },
    {
      "cell_type": "markdown",
      "metadata": {
        "id": "HngXjKlJ9B1S"
      },
      "source": [
        "# Unit 6. 변수와 입력 사용하기 "
      ]
    },
    {
      "cell_type": "code",
      "metadata": {
        "colab": {
          "base_uri": "https://localhost:8080/"
        },
        "id": "L9BYPm3k8-eh",
        "outputId": "40d61ad8-f1f5-4a75-c200-1ef0ab479306"
      },
      "source": [
        "# 6.1 변수 만들기 \n",
        "\n",
        "x, y, z = 10, 20, 'babo'\n",
        "\n",
        "print(x, y, z)"
      ],
      "execution_count": 13,
      "outputs": [
        {
          "output_type": "stream",
          "text": [
            "10 20 babo\n"
          ],
          "name": "stdout"
        }
      ]
    },
    {
      "cell_type": "code",
      "metadata": {
        "colab": {
          "base_uri": "https://localhost:8080/"
        },
        "id": "QaXlcaOK9UGH",
        "outputId": "f65926dc-dd26-4eef-e816-c37a0f18f4d2"
      },
      "source": [
        "x = y = z = 10 \n",
        "\n",
        "print(x, y, z)"
      ],
      "execution_count": 14,
      "outputs": [
        {
          "output_type": "stream",
          "text": [
            "10 10 10\n"
          ],
          "name": "stdout"
        }
      ]
    },
    {
      "cell_type": "markdown",
      "metadata": {
        "id": "aBYACctJ9Z8P"
      },
      "source": [
        "*변수 삭제하기*"
      ]
    },
    {
      "cell_type": "code",
      "metadata": {
        "colab": {
          "base_uri": "https://localhost:8080/",
          "height": 194
        },
        "id": "7mhIsF189YNF",
        "outputId": "9a5c574e-0926-42d1-a595-0097877fcf2c"
      },
      "source": [
        "del x \n",
        "x"
      ],
      "execution_count": 15,
      "outputs": [
        {
          "output_type": "error",
          "ename": "NameError",
          "evalue": "ignored",
          "traceback": [
            "\u001b[0;31m---------------------------------------------------------------------------\u001b[0m",
            "\u001b[0;31mNameError\u001b[0m                                 Traceback (most recent call last)",
            "\u001b[0;32m<ipython-input-15-57b4c3c50f8f>\u001b[0m in \u001b[0;36m<module>\u001b[0;34m()\u001b[0m\n\u001b[1;32m      1\u001b[0m \u001b[0;32mdel\u001b[0m \u001b[0mx\u001b[0m\u001b[0;34m\u001b[0m\u001b[0;34m\u001b[0m\u001b[0m\n\u001b[0;32m----> 2\u001b[0;31m \u001b[0mx\u001b[0m\u001b[0;34m\u001b[0m\u001b[0;34m\u001b[0m\u001b[0m\n\u001b[0m",
            "\u001b[0;31mNameError\u001b[0m: name 'x' is not defined"
          ]
        }
      ]
    },
    {
      "cell_type": "code",
      "metadata": {
        "id": "DGzjEaed9fNl"
      },
      "source": [
        "x = None\n",
        "x"
      ],
      "execution_count": 16,
      "outputs": []
    },
    {
      "cell_type": "code",
      "metadata": {
        "colab": {
          "base_uri": "https://localhost:8080/"
        },
        "id": "_f2ntKtI9isq",
        "outputId": "5edae40a-ed5a-435e-d993-1b830123ad7a"
      },
      "source": [
        "# 6.2 변수로 계산하기\n",
        "\n",
        "a = 10 \n",
        "b = 20 \n",
        "c = a + b \n",
        "c "
      ],
      "execution_count": 17,
      "outputs": [
        {
          "output_type": "execute_result",
          "data": {
            "text/plain": [
              "30"
            ]
          },
          "metadata": {
            "tags": []
          },
          "execution_count": 17
        }
      ]
    },
    {
      "cell_type": "code",
      "metadata": {
        "colab": {
          "base_uri": "https://localhost:8080/"
        },
        "id": "ygqlwtb29pcf",
        "outputId": "3ed77b3e-d5fc-4571-bea4-60bbb0e11859"
      },
      "source": [
        "a = 10 \n",
        "a += 20 \n",
        "a "
      ],
      "execution_count": 18,
      "outputs": [
        {
          "output_type": "execute_result",
          "data": {
            "text/plain": [
              "30"
            ]
          },
          "metadata": {
            "tags": []
          },
          "execution_count": 18
        }
      ]
    },
    {
      "cell_type": "code",
      "metadata": {
        "colab": {
          "base_uri": "https://localhost:8080/",
          "height": 54
        },
        "id": "pMMOy9g69tu-",
        "outputId": "c29c517b-c9da-4ef0-b8a6-a9367f0df3c8"
      },
      "source": [
        "# 6.3 input 함수 사용하기 \n",
        "\n",
        "x = input()\n",
        "x "
      ],
      "execution_count": 19,
      "outputs": [
        {
          "output_type": "stream",
          "text": [
            "hello\n"
          ],
          "name": "stdout"
        },
        {
          "output_type": "execute_result",
          "data": {
            "application/vnd.google.colaboratory.intrinsic+json": {
              "type": "string"
            },
            "text/plain": [
              "'hello'"
            ]
          },
          "metadata": {
            "tags": []
          },
          "execution_count": 19
        }
      ]
    },
    {
      "cell_type": "code",
      "metadata": {
        "colab": {
          "base_uri": "https://localhost:8080/"
        },
        "id": "tkfqjJ-595PQ",
        "outputId": "c2001af2-c582-4138-ce1a-a2f474ed4f7c"
      },
      "source": [
        "a, b = map(int, input().split())\n",
        "print(a+b)"
      ],
      "execution_count": 20,
      "outputs": [
        {
          "output_type": "stream",
          "text": [
            "10 20\n",
            "30\n"
          ],
          "name": "stdout"
        }
      ]
    },
    {
      "cell_type": "code",
      "metadata": {
        "colab": {
          "base_uri": "https://localhost:8080/"
        },
        "id": "jKb2g6Ei-CZg",
        "outputId": "8c79b3aa-a53e-4b9c-dce3-f67c3308044f"
      },
      "source": [
        "# 6.6 연습문제 : 정수 세 개 입력받고 합계 출력하기 \n",
        "\n",
        "a, b, c = map(int, input().split())\n",
        "print(a+b+c)"
      ],
      "execution_count": 21,
      "outputs": [
        {
          "output_type": "stream",
          "text": [
            "-10 20 30\n",
            "40\n"
          ],
          "name": "stdout"
        }
      ]
    },
    {
      "cell_type": "code",
      "metadata": {
        "colab": {
          "base_uri": "https://localhost:8080/"
        },
        "id": "zCJqPKkF-XQT",
        "outputId": "4e18fd40-b757-48ff-95b7-01d98880ab87"
      },
      "source": [
        "# 6.7 심사문제 : 변수 만들기 \n",
        "\n",
        "a, b, c = input().split()\n",
        "\n",
        "print(a,b,c)"
      ],
      "execution_count": 23,
      "outputs": [
        {
          "output_type": "stream",
          "text": [
            "50 100 None\n",
            "50 100 None\n"
          ],
          "name": "stdout"
        }
      ]
    },
    {
      "cell_type": "code",
      "metadata": {
        "colab": {
          "base_uri": "https://localhost:8080/"
        },
        "id": "vmqTRq_s-m_A",
        "outputId": "5ca09352-a13f-4570-8c1c-35df76d45b48"
      },
      "source": [
        "# 6.8 심사문제 : 평균 점수 구하기 \n",
        "\n",
        "ko, en, ma, si = map(int, input().split())\n",
        "\n",
        "print(int((ko+en+ma+si)/4))"
      ],
      "execution_count": 25,
      "outputs": [
        {
          "output_type": "stream",
          "text": [
            "83 92 87 90\n",
            "88\n"
          ],
          "name": "stdout"
        }
      ]
    },
    {
      "cell_type": "markdown",
      "metadata": {
        "id": "ywUG-Xi1_SLf"
      },
      "source": [
        "# Unit 7. 출력 방법 알아보기 "
      ]
    },
    {
      "cell_type": "code",
      "metadata": {
        "colab": {
          "base_uri": "https://localhost:8080/"
        },
        "id": "YBpdrN6l_Kpy",
        "outputId": "6626a423-1aee-4723-da42-64b2222066db"
      },
      "source": [
        "print(4,5,6, sep = \" \")"
      ],
      "execution_count": 27,
      "outputs": [
        {
          "output_type": "stream",
          "text": [
            "4 5 6\n"
          ],
          "name": "stdout"
        }
      ]
    },
    {
      "cell_type": "code",
      "metadata": {
        "colab": {
          "base_uri": "https://localhost:8080/"
        },
        "id": "UScjakHbsKS0",
        "outputId": "b81dd407-58b3-4daf-efb0-48c70e8de810"
      },
      "source": [
        "print(4,5,6, sep = '\\n')"
      ],
      "execution_count": 28,
      "outputs": [
        {
          "output_type": "stream",
          "text": [
            "4\n",
            "5\n",
            "6\n"
          ],
          "name": "stdout"
        }
      ]
    },
    {
      "cell_type": "code",
      "metadata": {
        "colab": {
          "base_uri": "https://localhost:8080/"
        },
        "id": "t1-g_1dVsV52",
        "outputId": "964a3e54-10f4-427c-daf0-e8565c8abde3"
      },
      "source": [
        "print('1\\n2\\n4')"
      ],
      "execution_count": 29,
      "outputs": [
        {
          "output_type": "stream",
          "text": [
            "1\n",
            "2\n",
            "4\n"
          ],
          "name": "stdout"
        }
      ]
    },
    {
      "cell_type": "code",
      "metadata": {
        "colab": {
          "base_uri": "https://localhost:8080/"
        },
        "id": "AifFlkJAsbvT",
        "outputId": "29603b71-b7ed-4487-b179-5e6a17cc5fda"
      },
      "source": [
        "print(1, end = '')\n",
        "print(2, end ='')\n",
        "print(3)"
      ],
      "execution_count": 30,
      "outputs": [
        {
          "output_type": "stream",
          "text": [
            "123\n"
          ],
          "name": "stdout"
        }
      ]
    },
    {
      "cell_type": "code",
      "metadata": {
        "colab": {
          "base_uri": "https://localhost:8080/"
        },
        "id": "_GIcD_jBsiCa",
        "outputId": "af9db38e-193d-4062-826a-3e5a9af5e490"
      },
      "source": [
        "print(1, end = ' ')\n",
        "print(2, end =' ')\n",
        "print(3)"
      ],
      "execution_count": 31,
      "outputs": [
        {
          "output_type": "stream",
          "text": [
            "1 2 3\n"
          ],
          "name": "stdout"
        }
      ]
    },
    {
      "cell_type": "code",
      "metadata": {
        "colab": {
          "base_uri": "https://localhost:8080/"
        },
        "id": "7lXDLX4Rsk06",
        "outputId": "010d55e6-ce24-4706-9541-6d343074f984"
      },
      "source": [
        "# 7.4 연습문제 : 날짜와 시간 출력하기 \n",
        "year = 2000\n",
        "month = 10\n",
        "day = 27\n",
        "hour = 11\n",
        "minute = 43\n",
        "second = 59\n",
        "\n",
        "print(year, month, day, sep =\"/\", end = ' ')\n",
        "print(hour, minute, second, sep = \":\")"
      ],
      "execution_count": 33,
      "outputs": [
        {
          "output_type": "stream",
          "text": [
            "2000/10/27 11:43:59\n"
          ],
          "name": "stdout"
        }
      ]
    },
    {
      "cell_type": "code",
      "metadata": {
        "id": "lr00jXpAs1S0"
      },
      "source": [
        "# 7.5 심사문제 : 날짜와 시간 출력하기"
      ],
      "execution_count": 34,
      "outputs": []
    },
    {
      "cell_type": "markdown",
      "metadata": {
        "id": "xiJ1O7GztEGn"
      },
      "source": [
        "# Unit 8 불과 비교, 논리 연산자 알아보기"
      ]
    },
    {
      "cell_type": "code",
      "metadata": {
        "colab": {
          "base_uri": "https://localhost:8080/"
        },
        "id": "LfVJivx_s8qX",
        "outputId": "c4ed9ae5-eb2e-415f-d49a-a87ce9d77d36"
      },
      "source": [
        "1 is 1.0"
      ],
      "execution_count": 35,
      "outputs": [
        {
          "output_type": "execute_result",
          "data": {
            "text/plain": [
              "False"
            ]
          },
          "metadata": {
            "tags": []
          },
          "execution_count": 35
        }
      ]
    },
    {
      "cell_type": "code",
      "metadata": {
        "colab": {
          "base_uri": "https://localhost:8080/"
        },
        "id": "bBMCfyOmtOZ9",
        "outputId": "7f49161e-dc3f-4239-da86-cd76df49e73d"
      },
      "source": [
        "# 8.4 연습문제\n",
        "\n",
        "korean = 92\n",
        "english = 47\n",
        "mathematics = 86\n",
        "science = 81\n",
        "\n",
        "print((korean>=50) & (english >=50) & (mathematics >= 50) & (science >= 50) )"
      ],
      "execution_count": 36,
      "outputs": [
        {
          "output_type": "stream",
          "text": [
            "False\n"
          ],
          "name": "stdout"
        }
      ]
    },
    {
      "cell_type": "markdown",
      "metadata": {
        "id": "9mNG-T2iuT_M"
      },
      "source": [
        "# Unit 9. 문자열 사용하기"
      ]
    },
    {
      "cell_type": "code",
      "metadata": {
        "colab": {
          "base_uri": "https://localhost:8080/"
        },
        "id": "t9YAZPI2uPW-",
        "outputId": "697c3ce3-46b1-475d-b147-3ec16022bea8"
      },
      "source": [
        "hello = '''\n",
        "안녕하세요\n",
        "저는 \n",
        "손학영입니다. \n",
        "''' \n",
        "\n",
        "print(hello)"
      ],
      "execution_count": 37,
      "outputs": [
        {
          "output_type": "stream",
          "text": [
            "\n",
            "안녕하세요\n",
            "저는 \n",
            "손학영입니다. \n",
            "\n"
          ],
          "name": "stdout"
        }
      ]
    },
    {
      "cell_type": "code",
      "metadata": {
        "colab": {
          "base_uri": "https://localhost:8080/"
        },
        "id": "dWnfqHNdue2b",
        "outputId": "adcaf665-951c-465f-8a85-be5a711b93c0"
      },
      "source": [
        "print(\"'안녕하세요'\")"
      ],
      "execution_count": 39,
      "outputs": [
        {
          "output_type": "stream",
          "text": [
            "'안녕하세요'\n"
          ],
          "name": "stdout"
        }
      ]
    },
    {
      "cell_type": "markdown",
      "metadata": {
        "id": "J6X1s3bWu4nC"
      },
      "source": [
        "# Unit 10. 리스트와 튜플 사용하기 "
      ]
    },
    {
      "cell_type": "code",
      "metadata": {
        "colab": {
          "base_uri": "https://localhost:8080/"
        },
        "id": "cnR1mDyLuj_N",
        "outputId": "6e020ecc-6954-4b7f-d2f6-fa5adbcfaf24"
      },
      "source": [
        "a = list(range(10))\n",
        "a"
      ],
      "execution_count": 40,
      "outputs": [
        {
          "output_type": "execute_result",
          "data": {
            "text/plain": [
              "[0, 1, 2, 3, 4, 5, 6, 7, 8, 9]"
            ]
          },
          "metadata": {
            "tags": []
          },
          "execution_count": 40
        }
      ]
    },
    {
      "cell_type": "code",
      "metadata": {
        "colab": {
          "base_uri": "https://localhost:8080/"
        },
        "id": "hJ99fdCwvCxt",
        "outputId": "785f1d1a-3a75-462a-9897-384039e84cba"
      },
      "source": [
        "b = tuple(range(10))\n",
        "b"
      ],
      "execution_count": 41,
      "outputs": [
        {
          "output_type": "execute_result",
          "data": {
            "text/plain": [
              "(0, 1, 2, 3, 4, 5, 6, 7, 8, 9)"
            ]
          },
          "metadata": {
            "tags": []
          },
          "execution_count": 41
        }
      ]
    },
    {
      "cell_type": "markdown",
      "metadata": {
        "id": "HJNY6IfivV1h"
      },
      "source": [
        "*리스트 튜프 언패킹*"
      ]
    },
    {
      "cell_type": "code",
      "metadata": {
        "colab": {
          "base_uri": "https://localhost:8080/"
        },
        "id": "fOdm_JUovLnd",
        "outputId": "ad9b7f42-dcca-464b-f1f0-da30019a1b59"
      },
      "source": [
        "x = [1,2,3]\n",
        "\n",
        "a, b, c = x \n",
        "\n",
        "print( a, b, c)"
      ],
      "execution_count": 42,
      "outputs": [
        {
          "output_type": "stream",
          "text": [
            "1 2 3\n"
          ],
          "name": "stdout"
        }
      ]
    },
    {
      "cell_type": "code",
      "metadata": {
        "colab": {
          "base_uri": "https://localhost:8080/"
        },
        "id": "LqTh0AyivUpf",
        "outputId": "ff1f9a44-5db1-47fe-ffb3-808ee04b42ef"
      },
      "source": [
        "x = (4, 5, 6)\n",
        "\n",
        "a, b, c = x \n",
        "print(a, b, c)"
      ],
      "execution_count": 43,
      "outputs": [
        {
          "output_type": "stream",
          "text": [
            "4 5 6\n"
          ],
          "name": "stdout"
        }
      ]
    },
    {
      "cell_type": "markdown",
      "metadata": {
        "id": "xYBMkd1Mvh9i"
      },
      "source": [
        "# Unit 11. 시퀀스 자료형 활용하기 "
      ]
    },
    {
      "cell_type": "code",
      "metadata": {
        "colab": {
          "base_uri": "https://localhost:8080/"
        },
        "id": "0WdgOMZyvcoL",
        "outputId": "016d7494-3e51-4b1f-90d2-3ceb6427bcca"
      },
      "source": [
        "1 in range(10)"
      ],
      "execution_count": 44,
      "outputs": [
        {
          "output_type": "execute_result",
          "data": {
            "text/plain": [
              "True"
            ]
          },
          "metadata": {
            "tags": []
          },
          "execution_count": 44
        }
      ]
    },
    {
      "cell_type": "code",
      "metadata": {
        "colab": {
          "base_uri": "https://localhost:8080/"
        },
        "id": "rfHQkqnByDRd",
        "outputId": "d157bd60-87db-42ee-8e00-93a427028c1f"
      },
      "source": [
        "'P' in 'Python'"
      ],
      "execution_count": 45,
      "outputs": [
        {
          "output_type": "execute_result",
          "data": {
            "text/plain": [
              "True"
            ]
          },
          "metadata": {
            "tags": []
          },
          "execution_count": 45
        }
      ]
    },
    {
      "cell_type": "code",
      "metadata": {
        "colab": {
          "base_uri": "https://localhost:8080/"
        },
        "id": "7RBiiC3gyHDS",
        "outputId": "a4babc84-abe6-44fb-e9b8-d4378ca64c4f"
      },
      "source": [
        "a = [1,2,3,4]\n",
        "b = [5,6,7,8]\n",
        "a+b"
      ],
      "execution_count": 46,
      "outputs": [
        {
          "output_type": "execute_result",
          "data": {
            "text/plain": [
              "[1, 2, 3, 4, 5, 6, 7, 8]"
            ]
          },
          "metadata": {
            "tags": []
          },
          "execution_count": 46
        }
      ]
    },
    {
      "cell_type": "code",
      "metadata": {
        "colab": {
          "base_uri": "https://localhost:8080/"
        },
        "id": "c0StVP4oyL1p",
        "outputId": "0c1dac5b-2137-4bf8-b1f1-72372467b37e"
      },
      "source": [
        "del a[2]\n",
        "a"
      ],
      "execution_count": 47,
      "outputs": [
        {
          "output_type": "execute_result",
          "data": {
            "text/plain": [
              "[1, 2, 4]"
            ]
          },
          "metadata": {
            "tags": []
          },
          "execution_count": 47
        }
      ]
    },
    {
      "cell_type": "code",
      "metadata": {
        "colab": {
          "base_uri": "https://localhost:8080/"
        },
        "id": "c9ShT2x82D79",
        "outputId": "29bba240-058d-4e27-ee11-3a5f4e08e02e"
      },
      "source": [
        "a = [0, 10, 20, 30, 40, 50, 60, 70, 80, 90]\n",
        "a[2:8:3]"
      ],
      "execution_count": 48,
      "outputs": [
        {
          "output_type": "execute_result",
          "data": {
            "text/plain": [
              "[20, 50]"
            ]
          },
          "metadata": {
            "tags": []
          },
          "execution_count": 48
        }
      ]
    },
    {
      "cell_type": "code",
      "metadata": {
        "colab": {
          "base_uri": "https://localhost:8080/"
        },
        "id": "s6L9b3y22M4A",
        "outputId": "105667be-b56f-4d40-f4b6-d26d2dabc5ef"
      },
      "source": [
        "a[:7 :2]"
      ],
      "execution_count": 49,
      "outputs": [
        {
          "output_type": "execute_result",
          "data": {
            "text/plain": [
              "[0, 20, 40, 60]"
            ]
          },
          "metadata": {
            "tags": []
          },
          "execution_count": 49
        }
      ]
    },
    {
      "cell_type": "code",
      "metadata": {
        "colab": {
          "base_uri": "https://localhost:8080/"
        },
        "id": "30_0YJXl2U_E",
        "outputId": "5d105b4d-490c-4d45-ec62-7b5a3219108e"
      },
      "source": [
        "a[3::2]"
      ],
      "execution_count": 50,
      "outputs": [
        {
          "output_type": "execute_result",
          "data": {
            "text/plain": [
              "[30, 50, 70, 90]"
            ]
          },
          "metadata": {
            "tags": []
          },
          "execution_count": 50
        }
      ]
    },
    {
      "cell_type": "code",
      "metadata": {
        "colab": {
          "base_uri": "https://localhost:8080/"
        },
        "id": "25fYvSho2ZBp",
        "outputId": "266bcfaa-abd6-40ce-ea1c-eae86bbe67b0"
      },
      "source": [
        "del a[3:4]\n",
        "a"
      ],
      "execution_count": 51,
      "outputs": [
        {
          "output_type": "execute_result",
          "data": {
            "text/plain": [
              "[0, 10, 20, 40, 50, 60, 70, 80, 90]"
            ]
          },
          "metadata": {
            "tags": []
          },
          "execution_count": 51
        }
      ]
    },
    {
      "cell_type": "code",
      "metadata": {
        "colab": {
          "base_uri": "https://localhost:8080/",
          "height": 73
        },
        "id": "vFNlbYSt2wC9",
        "outputId": "3e0f1176-2827-4ed4-8926-a6283b92bf32"
      },
      "source": [
        "# 11.8 심사문제 : 리스트 문자열 짝수랑 홀수 합치기 \n",
        "a = input()\n",
        "b = input()\n",
        "\n",
        "a[1:len(a):2] + b[0:len(b):2]"
      ],
      "execution_count": 54,
      "outputs": [
        {
          "output_type": "stream",
          "text": [
            "apple\n",
            "strawberry\n"
          ],
          "name": "stdout"
        },
        {
          "output_type": "execute_result",
          "data": {
            "application/vnd.google.colaboratory.intrinsic+json": {
              "type": "string"
            },
            "text/plain": [
              "'plsrwer'"
            ]
          },
          "metadata": {
            "tags": []
          },
          "execution_count": 54
        }
      ]
    },
    {
      "cell_type": "markdown",
      "metadata": {
        "id": "Bf9jVeWk3mxb"
      },
      "source": [
        "# Unit 12. 딕셔너리 사용하기"
      ]
    },
    {
      "cell_type": "code",
      "metadata": {
        "id": "BfvTUzuv3aju"
      },
      "source": [
        "lux = {'he' : 490, 'ma' : 334, 'me' : 550, 'ar' :18.72 }"
      ],
      "execution_count": 56,
      "outputs": []
    },
    {
      "cell_type": "code",
      "metadata": {
        "id": "Xp2K8mAs31cN"
      },
      "source": [
        "lux2 = dict(zip(['health', 'mana', 'melee', 'armor'], [490, 334, 550, 18.72])) "
      ],
      "execution_count": 57,
      "outputs": []
    },
    {
      "cell_type": "code",
      "metadata": {
        "id": "Su-82s0N4BM1"
      },
      "source": [
        "lux3 = dict([('health', 490), ('mana', 334), ('melee', 550), ('armor', 18.72)])"
      ],
      "execution_count": 58,
      "outputs": []
    },
    {
      "cell_type": "code",
      "metadata": {
        "id": "Il7jwwcG4DxC"
      },
      "source": [
        " lux4 = dict({'health': 490, 'mana': 334, 'melee': 550, 'armor': 18.72}) "
      ],
      "execution_count": 59,
      "outputs": []
    },
    {
      "cell_type": "code",
      "metadata": {
        "colab": {
          "base_uri": "https://localhost:8080/"
        },
        "id": "rAixVGTB4HJk",
        "outputId": "2efdd5fa-844d-4ff8-8d27-1860fb7a48fe"
      },
      "source": [
        "lux2['health'] = 200\n",
        "lux2"
      ],
      "execution_count": 60,
      "outputs": [
        {
          "output_type": "execute_result",
          "data": {
            "text/plain": [
              "{'armor': 18.72, 'health': 200, 'mana': 334, 'melee': 550}"
            ]
          },
          "metadata": {
            "tags": []
          },
          "execution_count": 60
        }
      ]
    },
    {
      "cell_type": "code",
      "metadata": {
        "colab": {
          "base_uri": "https://localhost:8080/"
        },
        "id": "slnUSU6E72T8",
        "outputId": "4cd24d48-5352-40f3-965e-dbc2260cffc7"
      },
      "source": [
        "lux['heatl'] = 300\n",
        "lux"
      ],
      "execution_count": 61,
      "outputs": [
        {
          "output_type": "execute_result",
          "data": {
            "text/plain": [
              "{'ar': 18.72, 'he': 490, 'heatl': 300, 'ma': 334, 'me': 550}"
            ]
          },
          "metadata": {
            "tags": []
          },
          "execution_count": 61
        }
      ]
    },
    {
      "cell_type": "code",
      "metadata": {
        "colab": {
          "base_uri": "https://localhost:8080/"
        },
        "id": "ieDwVhRR76yS",
        "outputId": "d9ee1419-b4e1-4b17-aa45-342da63d1fe1"
      },
      "source": [
        "'he' in lux"
      ],
      "execution_count": 63,
      "outputs": [
        {
          "output_type": "execute_result",
          "data": {
            "text/plain": [
              "True"
            ]
          },
          "metadata": {
            "tags": []
          },
          "execution_count": 63
        }
      ]
    },
    {
      "cell_type": "markdown",
      "metadata": {
        "id": "BveXplCS8IvT"
      },
      "source": [
        "# Unit 13. if 조건문으로 특정 조건일 때 코드 실행하기"
      ]
    },
    {
      "cell_type": "code",
      "metadata": {
        "id": "VotPhkC47-DS"
      },
      "source": [
        ""
      ],
      "execution_count": null,
      "outputs": []
    }
  ]
}